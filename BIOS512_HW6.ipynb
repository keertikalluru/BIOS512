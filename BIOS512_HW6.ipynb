{
 "cells": [
  {
   "cell_type": "markdown",
   "id": "e28ee416-9046-4d39-b791-da6d3145e95f",
   "metadata": {},
   "source": [
    "# Homework 6\n",
    "This homework builds on the effective visualization workshop with the Star Trek data. Below is what we completed in class. Output is suppressed for readability, but you can remove the supression on your code if you'd like."
   ]
  },
  {
   "cell_type": "code",
   "execution_count": 17,
   "id": "a99536e7-2021-47ad-8785-1593cbb01659",
   "metadata": {
    "vscode": {
     "languageId": "r"
    }
   },
   "outputs": [
    {
     "name": "stdout",
     "output_type": "stream",
     "text": [
      "\u001b[90m# A tibble: 10 × 3\u001b[39m\n",
      "   episode_number character dialog                                              \n",
      "            \u001b[3m\u001b[90m<dbl>\u001b[39m\u001b[23m \u001b[3m\u001b[90m<chr>\u001b[39m\u001b[23m     \u001b[3m\u001b[90m<chr>\u001b[39m\u001b[23m                                               \n",
      "\u001b[90m 1\u001b[39m            102 PICARD    Captain's log, stardate 42353.7. Our destination is…\n",
      "\u001b[90m 2\u001b[39m            102 PICARD    My orders are to examine Farpoint, a starbase built…\n",
      "\u001b[90m 3\u001b[39m            102 PICARD    ... I am becoming better acquainted with my new com…\n",
      "\u001b[90m 4\u001b[39m            102 PICARD    I am still somewhat in awe of its size and complexi…\n",
      "\u001b[90m 5\u001b[39m            102 PICARD    ... my crew we are short in several key positions, …\n",
      "\u001b[90m 6\u001b[39m            102 PICARD    ... a first officer, but I am informed that a highl…\n",
      "\u001b[90m 7\u001b[39m            102 PICARD    You will agree, Data, that Starfleet's instructions…\n",
      "\u001b[90m 8\u001b[39m            102 DATA      Difficult ... how so? Simply solve the mystery of F…\n",
      "\u001b[90m 9\u001b[39m            102 PICARD    As simple as that.                                  \n",
      "\u001b[90m10\u001b[39m            102 TROI      Farpoint Station. Even the name sounds mysterious.  \n",
      "[1] \"episode_number\" \"character\"      \"dialog\"        \n"
     ]
    }
   ],
   "source": [
    "invisible({\n",
    "suppressPackageStartupMessages(library(tidyverse))\n",
    "\n",
    "# Get the data.\n",
    "dialogs <- read_csv(\n",
    "  \"https://raw.githubusercontent.com/Vincent-Toups/bios512/fcbc65a2696c7cff80d0f6ed1dd5c97abf0ef800/effective-visualization/source_data/tng.csv\",\n",
    "  show_col_types = FALSE\n",
    ")\n",
    "\n",
    "# print(dialogs)\n",
    "print(head(dialogs, 10)) # Showing first 10 observations\n",
    "\n",
    "# Checkout the data.\n",
    "print(names(dialogs))\n",
    "dialogs %>% group_by(character) %>% tally() %>% arrange(desc(n))\n",
    "dialogs %>% mutate(dialog_length=str_length(dialog)) %>% group_by(character) %>% summarize(mean_dialog_length = mean(dialog_length)) %>% arrange(desc(mean_dialog_length))\n",
    "\n",
    "# Fix weird data.\n",
    "dialogs %>% filter(character==\"BEVERLY'S\")\n",
    "\n",
    "dialogs_fixed <- dialogs %>%\n",
    "  mutate(\n",
    "    character = str_replace_all(character, \"'S.*$\", \"\"),\n",
    "    character = str_replace_all(character, \" VOICE\", \"\"),\n",
    "    character = str_replace_all(character, \"\\\\.\", \"\"),\n",
    "    character = str_replace_all(character, \"'\", \"\"),\n",
    "    character = str_replace_all(character, \"S COM\", \"\"),\n",
    "    character = str_replace_all(character, \" COM\", \"\"),\n",
    "    dialog_length = str_length(dialog)\n",
    "  ) %>%\n",
    "  filter(character %in% unlist(str_split(\"PICARD RIKER DATA TROI BEVERLY WORF WESLEY GEORDI\", \" \")))\n",
    "\n",
    "dialogs_fixed %>% group_by(character) %>% summarize(mean_dialog_length = mean(dialog_length), std_dialog_length=sd(dialog_length)) %>% arrange(desc(mean_dialog_length))\n",
    "\n",
    "dialog_len_per_ep <- dialogs_fixed %>% group_by(character, episode_number) %>% summarize(mean_dialog_length = mean(dialog_length), std_dialog_length=sd(dialog_length), .groups = \"drop\") %>% arrange(desc(mean_dialog_length))\n",
    "\n",
    "dialog_len_per_ep\n",
    "\n",
    "# Plot the data.\n",
    "ggplot(dialogs_fixed) + geom_density(aes(x=dialog_length))\n",
    "\n",
    "for_factor <- dialog_len_per_ep %>% group_by(character) %>% summarise(m=mean(mean_dialog_length)) %>% arrange(desc(m))\n",
    "ggplot(dialog_len_per_ep, aes(factor(character,for_factor$character), mean_dialog_length)) + geom_boxplot()\n",
    "\n",
    "dialog_len_per_ep <- dialogs_fixed %>% \n",
    "    group_by(character, episode_number) %>% \n",
    "    summarize(mean_dialog_length = mean(dialog_length), dialog_count=n(), .groups = \"drop\") %>% \n",
    "    arrange(desc(mean_dialog_length))\n",
    "\n",
    "ggplot(dialog_len_per_ep, aes(dialog_count, mean_dialog_length)) + geom_point(aes(color=character)) + facet_wrap(~character)\n",
    "})"
   ]
  },
  {
   "cell_type": "markdown",
   "id": "bea9c7e6",
   "metadata": {},
   "source": [
    "## Question 1\n",
    "In class, we left off on the plot below, which shows the distribution of dialog count by mean dialog length, where each point represents an episode. Interpret these results. How can we tell the character's role in the story by their plot?"
   ]
  },
  {
   "cell_type": "markdown",
   "id": "5e88ac4a-2f3b-4899-ae61-8e4cc30db0af",
   "metadata": {},
   "source": [
    "These plots show that some characters have more consistent ranges of dialog count and length compared to others.  While Picard does have the highest dialog count for an episode, this characters mean dialog length us generally below 100. Wesley has the lowerst by dialog count and also tends to have lower dialog length. A few characters have more variation. For example, Beverly tends to have less dialogs per episode, but has a larger distribution of dialog length, going as high as 150. This is a similar case with Troi, where most of the dialog counts are below 100 per episode, but length varies - going from 0 to almost 200. Characters like Data do not have high variation on either axis. Based on this, we cannot fully infer their role in the plot. It could mean that a character had a lot of minor lines, or a few lines but longer monologues. "
   ]
  },
  {
   "cell_type": "code",
   "execution_count": 18,
   "id": "981e6cdd",
   "metadata": {
    "vscode": {
     "languageId": "r"
    }
   },
   "outputs": [
    {
     "data": {
      "image/png": "[encoded data removed]",
      "text/plain": [
       "plot without title"
      ]
     },
     "metadata": {
      "image/png": {
       "height": 420,
       "width": 420
      }
     },
     "output_type": "display_data"
    }
   ],
   "source": [
    "ggplot(dialog_len_per_ep, aes(dialog_count, mean_dialog_length)) + \n",
    "    geom_point(aes(color=character)) + \n",
    "    facet_wrap(~character)"
   ]
  },
  {
   "cell_type": "markdown",
   "id": "912f599e-75ee-4dc3-96a4-4ad8ddaeddfa",
   "metadata": {},
   "source": [
    "## Question 2\n",
    "#### a) Compare Beverly's mean dialog per episode vs. mean dialog count per episode from season 1 (episodes 102-126) to season 3 (episodes 149-174) in a table.  \n",
    "*Hints*:  \n",
    "-   First, use `filter()` to get - 1) the dialog from only Beverly's character and 2) the episodes within the ranges given.\n",
    "-   Then, add a season variable using `mutate()` with `case_when()`.\n",
    "-   To create the means per episode, after your `mutate()` step, you'll need to `group_by()` season and episode number, then you can do your `summarize()` step to get the means by episode. At the end of the `summary()` statement (inside the parenthesis), add `.groups=\"drop\"`. \n",
    "-   Then, to get the mean of means, you'll do the same as above, but only grouping by season. "
   ]
  },
  {
   "cell_type": "code",
   "execution_count": 19,
   "id": "56090c07-8435-493b-a707-df7d357eeaed",
   "metadata": {},
   "outputs": [
    {
     "name": "stdout",
     "output_type": "stream",
     "text": [
      "\u001b[90m# A tibble: 50 × 4\u001b[39m\n",
      "   season episode_number mean_dialog_length mean_dialog_count\n",
      "    \u001b[3m\u001b[90m<dbl>\u001b[39m\u001b[23m          \u001b[3m\u001b[90m<dbl>\u001b[39m\u001b[23m              \u001b[3m\u001b[90m<dbl>\u001b[39m\u001b[23m             \u001b[3m\u001b[90m<dbl>\u001b[39m\u001b[23m\n",
      "\u001b[90m 1\u001b[39m      1            102               56.7                31\n",
      "\u001b[90m 2\u001b[39m      1            103               58.8                45\n",
      "\u001b[90m 3\u001b[39m      1            104               55.6                17\n",
      "\u001b[90m 4\u001b[39m      1            105               69.2                10\n",
      "\u001b[90m 5\u001b[39m      1            106               57.5                11\n",
      "\u001b[90m 6\u001b[39m      1            107               36.6                10\n",
      "\u001b[90m 7\u001b[39m      1            108               43.6                57\n",
      "\u001b[90m 8\u001b[39m      1            109               45.7                30\n",
      "\u001b[90m 9\u001b[39m      1            110               50.2                52\n",
      "\u001b[90m10\u001b[39m      1            111               48                   9\n",
      "\u001b[90m# ℹ 40 more rows\u001b[39m\n",
      "\u001b[90m# A tibble: 2 × 3\u001b[39m\n",
      "  season mean_dialog_length mean_dialog_count\n",
      "   \u001b[3m\u001b[90m<dbl>\u001b[39m\u001b[23m              \u001b[3m\u001b[90m<dbl>\u001b[39m\u001b[23m             \u001b[3m\u001b[90m<dbl>\u001b[39m\u001b[23m\n",
      "\u001b[90m1\u001b[39m      1               56.5              25.4\n",
      "\u001b[90m2\u001b[39m      3               67.0              19.6\n"
     ]
    }
   ],
   "source": [
    "# a) \n",
    "library(dplyr)\n",
    "beverly <- dialog_len_per_ep %>% filter(character == \"BEVERLY\" & episode_number %in% c(102:126, 149:174)) %>% \n",
    " mutate(season = case_when(\n",
    "    episode_number %in% 102:126 ~ 1,\n",
    "    episode_number %in% 127:148 ~ 2,  \n",
    "    episode_number %in% 149:174 ~ 3,\n",
    "    TRUE ~ NA_real_\n",
    "  ))\n",
    "\n",
    "beverly_episode <- beverly %>% group_by(season, episode_number) %>%\n",
    " summarise(\n",
    "    mean_dialog_length = mean(mean_dialog_length, na.rm = TRUE),\n",
    "    mean_dialog_count = mean(dialog_count, na.rm = TRUE), \n",
    "    .groups = \"drop\"                                 \n",
    "  )\n",
    "print(beverly_episode)\n",
    "\n",
    "beverly_season <- beverly_episode %>%\n",
    "group_by(season) %>%\n",
    " summarise(\n",
    "    mean_dialog_length = mean(mean_dialog_length, na.rm = TRUE),\n",
    "    mean_dialog_count = mean(mean_dialog_count, na.rm = TRUE), \n",
    "    .groups = \"drop\"                                 \n",
    "  )\n",
    "print(beverly_season)"
   ]
  },
  {
   "cell_type": "markdown",
   "id": "ed279253-496a-4663-af45-4e6f8dea8b2f",
   "metadata": {},
   "source": [
    "#### b) In class, we talked about this character saying the actress has stated that after she was fired and rehired, the writers began giving her storylines that made her feel like a male character. How is this reflected in our table?"
   ]
  },
  {
   "cell_type": "markdown",
   "id": "db383a4d-a6fa-4fa3-bce1-c2c2e438b527",
   "metadata": {},
   "source": [
    "The tables show that between season 1 and season 3, Beverly's mean dialogue length went up and her mean_dialogue count went down a little. This could be an indication that she was treated more similarly to the male character and being given lines that are longer. We do not know from this what her character is saying but it does follow a closer pattern to the male characters. "
   ]
  },
  {
   "cell_type": "markdown",
   "id": "b7c71595-1076-46e1-8583-6f9089e38adb",
   "metadata": {},
   "source": [
    "## Question 3\n",
    "Let's compare the vocabulary richness (unique words / total words) of each character. \n",
    "#### a) Tokenize dialog into words, remove punctuation, convert to lowercase. Then filter out the stop words in the list below (from https://gist.github.com/sebleier/554280).\n",
    "*Hint*: Here's a template for that this step should look like:\n",
    "```\n",
    "tokens <- YOUR_DATASET %>%\n",
    "  # Split each dialog into words\n",
    "  mutate(word_list = str_split(DIALOG_COLUMN, \"\\\\s+\")) %>%\n",
    "  \n",
    "  # Unnest the list column so each word is a row\n",
    "  unnest(word_list) %>%\n",
    "  \n",
    "  # Clean words\n",
    "  mutate(\n",
    "    word = str_remove_all(word_list, \"[[:punct:]]\"),  # Remove punctuation\n",
    "    word = str_to_lower(word)                         # Convert to lowercase\n",
    "  ) %>%\n",
    "  \n",
    "  # Remove empty strings and stopwords\n",
    "  filter(word != \"\", !word %in% STOPWORDS)\n",
    "```"
   ]
  },
  {
   "cell_type": "code",
   "execution_count": 20,
   "id": "df525192-1206-4ae8-bc78-eb10f7a2cd5c",
   "metadata": {},
   "outputs": [],
   "source": [
    "stop_words <- c(\n",
    "  \"i\",\"me\",\"my\",\"myself\",\"we\",\"our\",\"ours\",\"ourselves\",\"you\",\"your\",\"yours\",\"yourself\",\n",
    "  \"yourselves\",\"he\",\"him\",\"his\",\"himself\",\"she\",\"her\",\"hers\",\"herself\",\"it\",\"its\",\"itself\",\n",
    "  \"they\",\"them\",\"their\",\"theirs\",\"themselves\",\"what\",\"which\",\"who\",\"whom\",\"this\",\"that\",\n",
    "  \"these\",\"those\",\"am\",\"is\",\"are\",\"was\",\"were\",\"be\",\"been\",\"being\",\"have\",\"has\",\"had\",\n",
    "  \"having\",\"do\",\"does\",\"did\",\"doing\",\"a\",\"an\",\"the\",\"and\",\"but\",\"if\",\"or\",\"because\",\"as\",\n",
    "  \"until\",\"while\",\"of\",\"at\",\"by\",\"for\",\"with\",\"about\",\"against\",\"between\",\"into\",\"through\",\n",
    "  \"during\",\"before\",\"after\",\"above\",\"below\",\"to\",\"from\",\"up\",\"down\",\"in\",\"out\",\"on\",\"off\",\n",
    "  \"over\",\"under\",\"again\",\"further\",\"then\",\"once\",\"here\",\"there\",\"when\",\"where\",\"why\",\"how\",\n",
    "  \"all\",\"any\",\"both\",\"each\",\"few\",\"more\",\"most\",\"other\",\"some\",\"such\",\"no\",\"nor\",\"not\",\n",
    "  \"only\",\"own\",\"same\",\"so\",\"than\",\"too\",\"very\",\"s\",\"t\",\"can\",\"will\",\"just\",\"don\",\"should\",\"now\"\n",
    ")"
   ]
  },
  {
   "cell_type": "code",
   "execution_count": 21,
   "id": "2d487c46-aa69-40b8-9268-0c4b8359ef89",
   "metadata": {},
   "outputs": [
    {
     "name": "stdout",
     "output_type": "stream",
     "text": [
      "\u001b[90m# A tibble: 267,252 × 6\u001b[39m\n",
      "   episode_number character dialog                 dialog_length word_list word \n",
      "            \u001b[3m\u001b[90m<dbl>\u001b[39m\u001b[23m \u001b[3m\u001b[90m<chr>\u001b[39m\u001b[23m     \u001b[3m\u001b[90m<chr>\u001b[39m\u001b[23m                          \u001b[3m\u001b[90m<int>\u001b[39m\u001b[23m \u001b[3m\u001b[90m<chr>\u001b[39m\u001b[23m     \u001b[3m\u001b[90m<chr>\u001b[39m\u001b[23m\n",
      "\u001b[90m 1\u001b[39m            102 PICARD    Captain's log, starda…           128 Captain's capt…\n",
      "\u001b[90m 2\u001b[39m            102 PICARD    Captain's log, starda…           128 log,      log  \n",
      "\u001b[90m 3\u001b[39m            102 PICARD    Captain's log, starda…           128 stardate  star…\n",
      "\u001b[90m 4\u001b[39m            102 PICARD    Captain's log, starda…           128 42353.7.  4235…\n",
      "\u001b[90m 5\u001b[39m            102 PICARD    Captain's log, starda…           128 destinat… dest…\n",
      "\u001b[90m 6\u001b[39m            102 PICARD    Captain's log, starda…           128 planet    plan…\n",
      "\u001b[90m 7\u001b[39m            102 PICARD    Captain's log, starda…           128 Cygnus    cygn…\n",
      "\u001b[90m 8\u001b[39m            102 PICARD    Captain's log, starda…           128 IV,       iv   \n",
      "\u001b[90m 9\u001b[39m            102 PICARD    Captain's log, starda…           128 beyond    beyo…\n",
      "\u001b[90m10\u001b[39m            102 PICARD    Captain's log, starda…           128 lies      lies \n",
      "\u001b[90m# ℹ 267,242 more rows\u001b[39m\n"
     ]
    }
   ],
   "source": [
    "tokens <- dialogs_fixed %>%\n",
    "  # Split each dialog into words\n",
    "  mutate(word_list = str_split(dialog, \"\\\\s+\")) %>%\n",
    "  \n",
    "  # Unnest the list column so each word is a row\n",
    "  unnest(word_list) %>%\n",
    "  \n",
    "  # Clean words\n",
    "  mutate(\n",
    "    word = str_remove_all(word_list, \"[[:punct:]]\"),  # Remove punctuation\n",
    "    word = str_to_lower(word)                         # Convert to lowercase\n",
    "  ) %>%\n",
    "  \n",
    "  # Remove empty strings and stopwords\n",
    "  filter(word != \"\", !word %in% stop_words)\n",
    "\n",
    "print(tokens)"
   ]
  },
  {
   "cell_type": "markdown",
   "id": "0614dd8b-bcf9-44f6-bebf-f4d58b78c5f0",
   "metadata": {},
   "source": [
    "#### b) Count unique words per character. Print a summary table with the following columns: character, total words, unique words, and vocabulary richness.  \n",
    "*Hint*: Group by character, then use `summarize()` to get what you want. You'll use `n_distinct()` to get the unique word counts. Arrange in descending value of vocabulary richness."
   ]
  },
  {
   "cell_type": "code",
   "execution_count": 22,
   "id": "5270c6a8-b0db-4b53-a6cb-c8a7d6f2f9fd",
   "metadata": {},
   "outputs": [
    {
     "data": {
      "text/html": [
       "<table class=\"dataframe\">\n",
       "<caption>A tibble: 8 × 4</caption>\n",
       "<thead>\n",
       "\t<tr><th scope=col>character</th><th scope=col>total_words</th><th scope=col>unique_words</th><th scope=col>vocab_richness</th></tr>\n",
       "\t<tr><th scope=col>&lt;chr&gt;</th><th scope=col>&lt;int&gt;</th><th scope=col>&lt;int&gt;</th><th scope=col>&lt;dbl&gt;</th></tr>\n",
       "</thead>\n",
       "<tbody>\n",
       "\t<tr><td>WESLEY </td><td> 7601</td><td>2291</td><td>0.3014077</td></tr>\n",
       "\t<tr><td>WORF   </td><td>18820</td><td>4318</td><td>0.2294368</td></tr>\n",
       "\t<tr><td>TROI   </td><td>19450</td><td>4187</td><td>0.2152699</td></tr>\n",
       "\t<tr><td>BEVERLY</td><td>22900</td><td>4875</td><td>0.2128821</td></tr>\n",
       "\t<tr><td>DATA   </td><td>45462</td><td>8593</td><td>0.1890150</td></tr>\n",
       "\t<tr><td>GEORDI </td><td>31978</td><td>5465</td><td>0.1708987</td></tr>\n",
       "\t<tr><td>RIKER  </td><td>41827</td><td>6458</td><td>0.1543979</td></tr>\n",
       "\t<tr><td>PICARD </td><td>79214</td><td>9272</td><td>0.1170500</td></tr>\n",
       "</tbody>\n",
       "</table>\n"
      ],
      "text/latex": [
       "A tibble: 8 × 4\n",
       "\\begin{tabular}{llll}\n",
       " character & total\\_words & unique\\_words & vocab\\_richness\\\\\n",
       " <chr> & <int> & <int> & <dbl>\\\\\n",
       "\\hline\n",
       "\t WESLEY  &  7601 & 2291 & 0.3014077\\\\\n",
       "\t WORF    & 18820 & 4318 & 0.2294368\\\\\n",
       "\t TROI    & 19450 & 4187 & 0.2152699\\\\\n",
       "\t BEVERLY & 22900 & 4875 & 0.2128821\\\\\n",
       "\t DATA    & 45462 & 8593 & 0.1890150\\\\\n",
       "\t GEORDI  & 31978 & 5465 & 0.1708987\\\\\n",
       "\t RIKER   & 41827 & 6458 & 0.1543979\\\\\n",
       "\t PICARD  & 79214 & 9272 & 0.1170500\\\\\n",
       "\\end{tabular}\n"
      ],
      "text/markdown": [
       "\n",
       "A tibble: 8 × 4\n",
       "\n",
       "| character &lt;chr&gt; | total_words &lt;int&gt; | unique_words &lt;int&gt; | vocab_richness &lt;dbl&gt; |\n",
       "|---|---|---|---|\n",
       "| WESLEY  |  7601 | 2291 | 0.3014077 |\n",
       "| WORF    | 18820 | 4318 | 0.2294368 |\n",
       "| TROI    | 19450 | 4187 | 0.2152699 |\n",
       "| BEVERLY | 22900 | 4875 | 0.2128821 |\n",
       "| DATA    | 45462 | 8593 | 0.1890150 |\n",
       "| GEORDI  | 31978 | 5465 | 0.1708987 |\n",
       "| RIKER   | 41827 | 6458 | 0.1543979 |\n",
       "| PICARD  | 79214 | 9272 | 0.1170500 |\n",
       "\n"
      ],
      "text/plain": [
       "  character total_words unique_words vocab_richness\n",
       "1 WESLEY     7601       2291         0.3014077     \n",
       "2 WORF      18820       4318         0.2294368     \n",
       "3 TROI      19450       4187         0.2152699     \n",
       "4 BEVERLY   22900       4875         0.2128821     \n",
       "5 DATA      45462       8593         0.1890150     \n",
       "6 GEORDI    31978       5465         0.1708987     \n",
       "7 RIKER     41827       6458         0.1543979     \n",
       "8 PICARD    79214       9272         0.1170500     "
      ]
     },
     "metadata": {},
     "output_type": "display_data"
    }
   ],
   "source": [
    "token_summary <- tokens %>% group_by(character) %>% summarise(total_words = n(),\n",
    "                                            unique_words = n_distinct(word),\n",
    "                                            vocab_richness = unique_words / total_words,\n",
    "                                            .groups = \"drop\") \n",
    "\n",
    "token_summary %>% arrange(desc(vocab_richness))"
   ]
  },
  {
   "cell_type": "markdown",
   "id": "308dabf8-33a4-49d3-8f03-c8cfbd4df8b8",
   "metadata": {},
   "source": [
    "#### c) Plot total words versus vocab richness. \n",
    "-   Use the character names as the \"points\".\n",
    "    -   *Hint*: Use `geom_text()` to add the character names as the points.\n",
    "-   Do not include a legend.\n",
    "    -   *Hint*: Use `theme()` to remove the legend.\n",
    "-   Add a title and axis titles.\n",
    "    -   *Hint*: Use `labs()` to add titles."
   ]
  },
  {
   "cell_type": "code",
   "execution_count": 23,
   "id": "4e9e4f99-87a1-4ed2-bf9f-ee72964c5e34",
   "metadata": {},
   "outputs": [
    {
     "data": {
      "image/png": "[encoded data removed]",
      "text/plain": [
       "plot without title"
      ]
     },
     "metadata": {
      "image/png": {
       "height": 420,
       "width": 420
      }
     },
     "output_type": "display_data"
    }
   ],
   "source": [
    "library(ggplot2)\n",
    "\n",
    "ggplot(token_summary, aes(x = total_words, y = vocab_richness, label = character)) +\n",
    "  geom_text(size = 4) + \n",
    "  labs(\n",
    "    title = \"Vocabulary Richness vs Total Words by Character\",\n",
    "    x = \"Total Words\",\n",
    "    y = \"Vocabulary Richness\"\n",
    "  ) +\n",
    "  theme(\n",
    "    legend.position = \"none\", \n",
    "    plot.title = element_text(hjust = 0.5)  \n",
    "  )"
   ]
  },
  {
   "cell_type": "markdown",
   "id": "5a3c7692-5515-4f70-a1f6-70ab7276e6b8",
   "metadata": {},
   "source": [
    "#### d) Interpret these results. "
   ]
  },
  {
   "cell_type": "markdown",
   "id": "2e7ea28f-a0fb-425b-ae0a-8bdc765b8af5",
   "metadata": {},
   "source": [
    "Wesley has the most vocabulary richness but a smaller amount of total words. So Wesley has more unique words out of total words spoken. This is the opposite for Picard. He has a lot of total words but seems to repeat some of the same words since he has lower vocabulary richness. Other characters have a more equal ratio of richness to total words such as the character Data"
   ]
  },
  {
   "cell_type": "markdown",
   "id": "d3d9ed14-c575-4ab2-90c2-569db7db7db8",
   "metadata": {},
   "source": [
    "## Question 4\n",
    "#### a) Find what episode Wesley left the show as a main character and state it explicitly. Meaning, find the first significant gap where he is not found in more than two episodes in a row. \n",
    "*Hint*: It's after season 3 (ended at episode 174), so you can filter out seasons 1-3 and print Wesley's dialog count per episode. Then, scan the table for the gap. "
   ]
  },
  {
   "cell_type": "code",
   "execution_count": 27,
   "id": "ac6f509a-bfa4-4286-a12f-24e266dacd85",
   "metadata": {},
   "outputs": [
    {
     "name": "stdout",
     "output_type": "stream",
     "text": [
      "\u001b[90m# A tibble: 11 × 3\u001b[39m\n",
      "\u001b[90m# Groups:   episode_number [11]\u001b[39m\n",
      "   episode_number dialog_count     n\n",
      "            \u001b[3m\u001b[90m<dbl>\u001b[39m\u001b[23m        \u001b[3m\u001b[90m<int>\u001b[39m\u001b[23m \u001b[3m\u001b[90m<int>\u001b[39m\u001b[23m\n",
      "\u001b[90m 1\u001b[39m            175           18     1\n",
      "\u001b[90m 2\u001b[39m            176            6     1\n",
      "\u001b[90m 3\u001b[39m            177            9     1\n",
      "\u001b[90m 4\u001b[39m            178            6     1\n",
      "\u001b[90m 5\u001b[39m            179           38     1\n",
      "\u001b[90m 6\u001b[39m            181            2     1\n",
      "\u001b[90m 7\u001b[39m            183           94     1\n",
      "\u001b[90m 8\u001b[39m            206          131     1\n",
      "\u001b[90m 9\u001b[39m            219           71     1\n",
      "\u001b[90m10\u001b[39m            263           18     1\n",
      "\u001b[90m11\u001b[39m            272           97     1\n"
     ]
    }
   ],
   "source": [
    "wesley_episodes <- dialog_len_per_ep %>%\n",
    "  filter(character == \"WESLEY\", episode_number > 174) %>%\n",
    "    group_by(episode_number) %>% \n",
    "    count(dialog_count)                                  \n",
    "\n",
    "print(wesley_episodes)\n",
    " "
   ]
  },
  {
   "cell_type": "markdown",
   "id": "8dc7f012-a0b9-44ba-a3f3-53f54ae55db4",
   "metadata": {},
   "source": [
    "Episode 183 is the first time Wesley is not found in more than 2 episodes in a row. This continues after this episode showing that he left the show as a main character"
   ]
  },
  {
   "cell_type": "markdown",
   "id": "a4b055da-beaa-4574-869c-1b3074edc6a6",
   "metadata": {},
   "source": [
    "#### b) After Wesley leaves the main cast, in which episodes does he make cameo appearances?"
   ]
  },
  {
   "cell_type": "markdown",
   "id": "147e9c20-7694-43a0-b710-b17e2c2b987b",
   "metadata": {},
   "source": [
    "Cameo appearances in: episodes 219, 263, and 272"
   ]
  },
  {
   "cell_type": "markdown",
   "id": "7f4a7e4a-5b37-461a-a92f-829d77af1597",
   "metadata": {},
   "source": [
    "#### c) Dig back into the data. Print:\n",
    "-   Wesley's last piece of dialog before he left the main cast.\n",
    "-   Wesley's last piece of dialog ever.  \n",
    "  \n",
    "*Hint*: To do this, you'll need to filter the `dialogs_fixed` data set to Welsey's lines and the episode number, and use `slice_tail(n = 1)` to get the last observation."
   ]
  },
  {
   "cell_type": "code",
   "execution_count": 30,
   "id": "4f168847-e9b9-4b89-b3d1-bbd141d163b9",
   "metadata": {},
   "outputs": [
    {
     "name": "stdout",
     "output_type": "stream",
     "text": [
      "\u001b[90m# A tibble: 1 × 4\u001b[39m\n",
      "  episode_number character dialog      dialog_length\n",
      "           \u001b[3m\u001b[90m<dbl>\u001b[39m\u001b[23m \u001b[3m\u001b[90m<chr>\u001b[39m\u001b[23m     \u001b[3m\u001b[90m<chr>\u001b[39m\u001b[23m               \u001b[3m\u001b[90m<int>\u001b[39m\u001b[23m\n",
      "\u001b[90m1\u001b[39m            183 WESLEY    I can walk.            11\n",
      "\u001b[90m# A tibble: 1 × 4\u001b[39m\n",
      "  episode_number character dialog         dialog_length\n",
      "           \u001b[3m\u001b[90m<dbl>\u001b[39m\u001b[23m \u001b[3m\u001b[90m<chr>\u001b[39m\u001b[23m     \u001b[3m\u001b[90m<chr>\u001b[39m\u001b[23m                  \u001b[3m\u001b[90m<int>\u001b[39m\u001b[23m\n",
      "\u001b[90m1\u001b[39m            272 WESLEY    Good-bye, Mom.            14\n"
     ]
    }
   ],
   "source": [
    "wesley_last_183 <- dialogs_fixed %>%\n",
    "  filter(character == \"WESLEY\", episode_number <= 183) %>%\n",
    "  slice_tail(n = 1) \n",
    "\n",
    "print(wesley_last_183)\n",
    "\n",
    "wesley_last_272 <- dialogs_fixed %>%\n",
    "  filter(character == \"WESLEY\") %>%\n",
    "  slice_tail(n = 1)\n",
    "\n",
    "print(wesley_last_272) "
   ]
  },
  {
   "cell_type": "markdown",
   "id": "c7724703-d038-4852-b149-41ea10dea45b",
   "metadata": {},
   "source": [
    "## Question 5\n",
    "Create a heatmap with `dialog_len_per_ep` showing mean dialog length per episode for each character. Sort the characters on the y-axis by their overall mean dialog length, with the lowest on top using a factor. Add a title and an axis title. \n",
    "*Hints*:\n",
    "For the factor:\n",
    "1. Compute overall mean (mean of mean) dialog length per character (`group_by()` then `summarize()`), and arrange the overall mean in ascending order. Add `pull(character)` to the end of this step so that you can use character as a factor in the next step. Store all of this in a new tibble.\n",
    "2. Convert character to factor with this order. On `dialog_len_per_ep`, you'll use a mutate statement to add the factor `(mutate(character = factor(character, levels = DATAFROMHINT1))`.\n",
    "3. Create heatmap using `geom_tile()`.\n",
    "4. If you want nicer colors, you can add `scale_fill_viridis_c()` (or another color scale) to your ggplot statement. **Not required**, but fun to mess around with!"
   ]
  },
  {
   "cell_type": "code",
   "execution_count": 35,
   "id": "5a913b35-5f29-4584-9158-d3b44d16a57e",
   "metadata": {},
   "outputs": [
    {
     "data": {
      "image/png": "[encoded data removed]",
      "text/plain": [
       "plot without title"
      ]
     },
     "metadata": {
      "image/png": {
       "height": 420,
       "width": 420
      }
     },
     "output_type": "display_data"
    }
   ],
   "source": [
    "char_order <- dialog_len_per_ep %>%\n",
    "  group_by(character) %>%\n",
    "  summarise(overall_mean = mean(mean_dialog_length, na.rm = TRUE)) %>%\n",
    "  arrange(overall_mean) %>%\n",
    "  pull(character)\n",
    "\n",
    "dialog_len_per_ep <- dialog_len_per_ep %>%\n",
    "  mutate(character = factor(character, levels = rev(char_order)))\n",
    "\n",
    "ggplot(dialog_len_per_ep, aes(x = episode_number, y = character, fill = mean_dialog_length)) +\n",
    "  geom_tile() +\n",
    "  scale_fill_gradient(low = \"white\", high = \"purple\") + \n",
    "  labs(\n",
    "    title = \"Mean Dialog Length per Episode by Character\",\n",
    "    x = \"Episode Number\",\n",
    "    y = \"Character\",\n",
    "    fill = \"Mean Dialog Length\"\n",
    "  ) +\n",
    "  theme_minimal() +\n",
    "  theme(axis.text.y = element_text(size = 8))"
   ]
  },
  {
   "cell_type": "code",
   "execution_count": null,
   "id": "7315fd18-11c6-4ccc-b79e-0c582a950576",
   "metadata": {},
   "outputs": [],
   "source": []
  }
 ],
 "metadata": {
  "kernelspec": {
   "display_name": "R",
   "language": "R",
   "name": "ir"
  },
  "language_info": {
   "codemirror_mode": "r",
   "file_extension": ".r",
   "mimetype": "text/x-r-source",
   "name": "R",
   "pygments_lexer": "r",
   "version": "4.4.2"
  }
 },
 "nbformat": 4,
 "nbformat_minor": 5
}
