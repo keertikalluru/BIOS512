{
 "cells": [
  {
   "cell_type": "markdown",
   "id": "a9fffe83-2e65-45b4-a7ae-eba928112210",
   "metadata": {},
   "source": [
    "# Homework 5\n",
    "This homework requires `wine.csv`, and the `tidyverse` and `Rtsne` packages. Install them if you haven't already!  \n",
    "See the following link for how to add new packages to Binder: https://github.com/rjenki/BIOS512?tab=readme-ov-file#adding-packages-to-installr-later.   \n",
    "**For readability and easier processing, please make each question part a different code chunk.**"
   ]
  },
  {
   "cell_type": "code",
   "execution_count": 1,
   "id": "8cf42c8f-5d46-455a-85bd-2df6a53141d3",
   "metadata": {},
   "outputs": [
    {
     "name": "stderr",
     "output_type": "stream",
     "text": [
      "── \u001b[1mAttaching core tidyverse packages\u001b[22m ──────────────────────── tidyverse 2.0.0 ──\n",
      "\u001b[32m✔\u001b[39m \u001b[34mdplyr    \u001b[39m 1.1.2     \u001b[32m✔\u001b[39m \u001b[34mreadr    \u001b[39m 2.1.4\n",
      "\u001b[32m✔\u001b[39m \u001b[34mforcats  \u001b[39m 1.0.0     \u001b[32m✔\u001b[39m \u001b[34mstringr  \u001b[39m 1.5.0\n",
      "\u001b[32m✔\u001b[39m \u001b[34mggplot2  \u001b[39m 3.4.2     \u001b[32m✔\u001b[39m \u001b[34mtibble   \u001b[39m 3.2.1\n",
      "\u001b[32m✔\u001b[39m \u001b[34mlubridate\u001b[39m 1.9.2     \u001b[32m✔\u001b[39m \u001b[34mtidyr    \u001b[39m 1.3.0\n",
      "\u001b[32m✔\u001b[39m \u001b[34mpurrr    \u001b[39m 1.0.1     \n",
      "── \u001b[1mConflicts\u001b[22m ────────────────────────────────────────── tidyverse_conflicts() ──\n",
      "\u001b[31m✖\u001b[39m \u001b[34mdplyr\u001b[39m::\u001b[32mfilter()\u001b[39m masks \u001b[34mstats\u001b[39m::filter()\n",
      "\u001b[31m✖\u001b[39m \u001b[34mdplyr\u001b[39m::\u001b[32mlag()\u001b[39m    masks \u001b[34mstats\u001b[39m::lag()\n",
      "\u001b[36mℹ\u001b[39m Use the conflicted package (\u001b[3m\u001b[34m<http://conflicted.r-lib.org/>\u001b[39m\u001b[23m) to force all conflicts to become errors\n"
     ]
    }
   ],
   "source": [
    "library(tidyverse)\n",
    "library(Rtsne)"
   ]
  },
  {
   "cell_type": "markdown",
   "id": "02234287-abef-4f5e-8045-b97a1c684af7",
   "metadata": {},
   "source": [
    "## Question 1  \n",
    "\n",
    "#### a) Import your data.  \n",
    "#### b) Check out the columns present using one of R's data frame summary.  \n",
    "#### c) Get summary statistics on the numeric variables.  "
   ]
  },
  {
   "cell_type": "code",
   "execution_count": 6,
   "id": "c4bbd0c1-7d20-4c8c-b8d0-2b219dc35b60",
   "metadata": {},
   "outputs": [
    {
     "name": "stderr",
     "output_type": "stream",
     "text": [
      "Installing package into 'C:/Users/keert/AppData/Local/R/win-library/4.4'\n",
      "(as 'lib' is unspecified)\n",
      "\n"
     ]
    },
    {
     "name": "stdout",
     "output_type": "stream",
     "text": [
      "package 'Rtsne' successfully unpacked and MD5 sums checked\n",
      "\n",
      "The downloaded binary packages are in\n",
      "\tC:\\Users\\keert\\AppData\\Local\\Temp\\RtmpkB9BtB\\downloaded_packages\n"
     ]
    },
    {
     "name": "stderr",
     "output_type": "stream",
     "text": [
      "\u001b[1mRows: \u001b[22m\u001b[34m178\u001b[39m \u001b[1mColumns: \u001b[22m\u001b[34m14\u001b[39m\n",
      "\u001b[36m──\u001b[39m \u001b[1mColumn specification\u001b[22m \u001b[36m─────────────────────────────────────────────────────────────────────────────────────────────────────────────────────────────────────────────────────────────────────────────────────────────────────────────────────\u001b[39m\n",
      "\u001b[1mDelimiter:\u001b[22m \",\"\n",
      "\u001b[32mdbl\u001b[39m (14): Alcohol, Malicacid, Ash, Alcalinity_of_ash, Magnesium, Total_pheno...\n",
      "\n",
      "\u001b[36mℹ\u001b[39m Use `spec()` to retrieve the full column specification for this data.\n",
      "\u001b[36mℹ\u001b[39m Specify the column types or set `show_col_types = FALSE` to quiet this message.\n"
     ]
    },
    {
     "name": "stdout",
     "output_type": "stream",
     "text": [
      "Rows: 178\n",
      "Columns: 14\n",
      "$ Alcohol                        \u001b[3m\u001b[90m<dbl>\u001b[39m\u001b[23m 14.23\u001b[90m, \u001b[39m13.20\u001b[90m, \u001b[39m13.16\u001b[90m, \u001b[39m14.37\u001b[90m, \u001b[39m13.24\u001b[90m, \u001b[39m14.2…\n",
      "$ Malicacid                      \u001b[3m\u001b[90m<dbl>\u001b[39m\u001b[23m 1.71\u001b[90m, \u001b[39m1.78\u001b[90m, \u001b[39m2.36\u001b[90m, \u001b[39m1.95\u001b[90m, \u001b[39m2.59\u001b[90m, \u001b[39m1.76\u001b[90m, \u001b[39m1.8…\n",
      "$ Ash                            \u001b[3m\u001b[90m<dbl>\u001b[39m\u001b[23m 2.43\u001b[90m, \u001b[39m2.14\u001b[90m, \u001b[39m2.67\u001b[90m, \u001b[39m2.50\u001b[90m, \u001b[39m2.87\u001b[90m, \u001b[39m2.45\u001b[90m, \u001b[39m2.4…\n",
      "$ Alcalinity_of_ash              \u001b[3m\u001b[90m<dbl>\u001b[39m\u001b[23m 15.6\u001b[90m, \u001b[39m11.2\u001b[90m, \u001b[39m18.6\u001b[90m, \u001b[39m16.8\u001b[90m, \u001b[39m21.0\u001b[90m, \u001b[39m15.2\u001b[90m, \u001b[39m14.…\n",
      "$ Magnesium                      \u001b[3m\u001b[90m<dbl>\u001b[39m\u001b[23m 127\u001b[90m, \u001b[39m100\u001b[90m, \u001b[39m101\u001b[90m, \u001b[39m113\u001b[90m, \u001b[39m118\u001b[90m, \u001b[39m112\u001b[90m, \u001b[39m96\u001b[90m, \u001b[39m121\u001b[90m, \u001b[39m…\n",
      "$ Total_phenols                  \u001b[3m\u001b[90m<dbl>\u001b[39m\u001b[23m 2.80\u001b[90m, \u001b[39m2.65\u001b[90m, \u001b[39m2.80\u001b[90m, \u001b[39m3.85\u001b[90m, \u001b[39m2.80\u001b[90m, \u001b[39m3.27\u001b[90m, \u001b[39m2.5…\n",
      "$ Flavanoids                     \u001b[3m\u001b[90m<dbl>\u001b[39m\u001b[23m 3.06\u001b[90m, \u001b[39m2.76\u001b[90m, \u001b[39m3.24\u001b[90m, \u001b[39m3.49\u001b[90m, \u001b[39m2.69\u001b[90m, \u001b[39m3.39\u001b[90m, \u001b[39m2.5…\n",
      "$ Nonflavanoid_phenols           \u001b[3m\u001b[90m<dbl>\u001b[39m\u001b[23m 0.28\u001b[90m, \u001b[39m0.26\u001b[90m, \u001b[39m0.30\u001b[90m, \u001b[39m0.24\u001b[90m, \u001b[39m0.39\u001b[90m, \u001b[39m0.34\u001b[90m, \u001b[39m0.3…\n",
      "$ Proanthocyanins                \u001b[3m\u001b[90m<dbl>\u001b[39m\u001b[23m 2.29\u001b[90m, \u001b[39m1.28\u001b[90m, \u001b[39m2.81\u001b[90m, \u001b[39m2.18\u001b[90m, \u001b[39m1.82\u001b[90m, \u001b[39m1.97\u001b[90m, \u001b[39m1.9…\n",
      "$ Color_intensity                \u001b[3m\u001b[90m<dbl>\u001b[39m\u001b[23m 5.64\u001b[90m, \u001b[39m4.38\u001b[90m, \u001b[39m5.68\u001b[90m, \u001b[39m7.80\u001b[90m, \u001b[39m4.32\u001b[90m, \u001b[39m6.75\u001b[90m, \u001b[39m5.2…\n",
      "$ Hue                            \u001b[3m\u001b[90m<dbl>\u001b[39m\u001b[23m 1.04\u001b[90m, \u001b[39m1.05\u001b[90m, \u001b[39m1.03\u001b[90m, \u001b[39m0.86\u001b[90m, \u001b[39m1.04\u001b[90m, \u001b[39m1.05\u001b[90m, \u001b[39m1.0…\n",
      "$ `0D280_0D315_of_diluted_wines` \u001b[3m\u001b[90m<dbl>\u001b[39m\u001b[23m 3.92\u001b[90m, \u001b[39m3.40\u001b[90m, \u001b[39m3.17\u001b[90m, \u001b[39m3.45\u001b[90m, \u001b[39m2.93\u001b[90m, \u001b[39m2.85\u001b[90m, \u001b[39m3.5…\n",
      "$ Proline                        \u001b[3m\u001b[90m<dbl>\u001b[39m\u001b[23m 1065\u001b[90m, \u001b[39m1050\u001b[90m, \u001b[39m1185\u001b[90m, \u001b[39m1480\u001b[90m, \u001b[39m735\u001b[90m, \u001b[39m1450\u001b[90m, \u001b[39m1290…\n",
      "$ class                          \u001b[3m\u001b[90m<dbl>\u001b[39m\u001b[23m 1\u001b[90m, \u001b[39m1\u001b[90m, \u001b[39m1\u001b[90m, \u001b[39m1\u001b[90m, \u001b[39m1\u001b[90m, \u001b[39m1\u001b[90m, \u001b[39m1\u001b[90m, \u001b[39m1\u001b[90m, \u001b[39m1\u001b[90m, \u001b[39m1\u001b[90m, \u001b[39m1\u001b[90m, \u001b[39m1\u001b[90m, \u001b[39m1\u001b[90m, \u001b[39m…\n"
     ]
    },
    {
     "data": {
      "text/html": [
       "<table class=\"dataframe\">\n",
       "<caption>A tibble: 1 × 56</caption>\n",
       "<thead>\n",
       "\t<tr><th scope=col>Alcohol_mean</th><th scope=col>Alcohol_sd</th><th scope=col>Alcohol_min</th><th scope=col>Alcohol_max</th><th scope=col>Malicacid_mean</th><th scope=col>Malicacid_sd</th><th scope=col>Malicacid_min</th><th scope=col>Malicacid_max</th><th scope=col>Ash_mean</th><th scope=col>Ash_sd</th><th scope=col>⋯</th><th scope=col>0D280_0D315_of_diluted_wines_min</th><th scope=col>0D280_0D315_of_diluted_wines_max</th><th scope=col>Proline_mean</th><th scope=col>Proline_sd</th><th scope=col>Proline_min</th><th scope=col>Proline_max</th><th scope=col>class_mean</th><th scope=col>class_sd</th><th scope=col>class_min</th><th scope=col>class_max</th></tr>\n",
       "\t<tr><th scope=col>&lt;dbl&gt;</th><th scope=col>&lt;dbl&gt;</th><th scope=col>&lt;dbl&gt;</th><th scope=col>&lt;dbl&gt;</th><th scope=col>&lt;dbl&gt;</th><th scope=col>&lt;dbl&gt;</th><th scope=col>&lt;dbl&gt;</th><th scope=col>&lt;dbl&gt;</th><th scope=col>&lt;dbl&gt;</th><th scope=col>&lt;dbl&gt;</th><th scope=col>⋯</th><th scope=col>&lt;dbl&gt;</th><th scope=col>&lt;dbl&gt;</th><th scope=col>&lt;dbl&gt;</th><th scope=col>&lt;dbl&gt;</th><th scope=col>&lt;dbl&gt;</th><th scope=col>&lt;dbl&gt;</th><th scope=col>&lt;dbl&gt;</th><th scope=col>&lt;dbl&gt;</th><th scope=col>&lt;dbl&gt;</th><th scope=col>&lt;dbl&gt;</th></tr>\n",
       "</thead>\n",
       "<tbody>\n",
       "\t<tr><td>13.00062</td><td>0.8118265</td><td>11.03</td><td>14.83</td><td>2.336348</td><td>1.117146</td><td>0.74</td><td>5.8</td><td>2.366517</td><td>0.274344</td><td>⋯</td><td>1.27</td><td>4</td><td>746.8933</td><td>314.9075</td><td>278</td><td>1680</td><td>1.938202</td><td>0.775035</td><td>1</td><td>3</td></tr>\n",
       "</tbody>\n",
       "</table>\n"
      ],
      "text/latex": [
       "A tibble: 1 × 56\n",
       "\\begin{tabular}{lllllllllllllllllllll}\n",
       " Alcohol\\_mean & Alcohol\\_sd & Alcohol\\_min & Alcohol\\_max & Malicacid\\_mean & Malicacid\\_sd & Malicacid\\_min & Malicacid\\_max & Ash\\_mean & Ash\\_sd & ⋯ & 0D280\\_0D315\\_of\\_diluted\\_wines\\_min & 0D280\\_0D315\\_of\\_diluted\\_wines\\_max & Proline\\_mean & Proline\\_sd & Proline\\_min & Proline\\_max & class\\_mean & class\\_sd & class\\_min & class\\_max\\\\\n",
       " <dbl> & <dbl> & <dbl> & <dbl> & <dbl> & <dbl> & <dbl> & <dbl> & <dbl> & <dbl> & ⋯ & <dbl> & <dbl> & <dbl> & <dbl> & <dbl> & <dbl> & <dbl> & <dbl> & <dbl> & <dbl>\\\\\n",
       "\\hline\n",
       "\t 13.00062 & 0.8118265 & 11.03 & 14.83 & 2.336348 & 1.117146 & 0.74 & 5.8 & 2.366517 & 0.274344 & ⋯ & 1.27 & 4 & 746.8933 & 314.9075 & 278 & 1680 & 1.938202 & 0.775035 & 1 & 3\\\\\n",
       "\\end{tabular}\n"
      ],
      "text/markdown": [
       "\n",
       "A tibble: 1 × 56\n",
       "\n",
       "| Alcohol_mean &lt;dbl&gt; | Alcohol_sd &lt;dbl&gt; | Alcohol_min &lt;dbl&gt; | Alcohol_max &lt;dbl&gt; | Malicacid_mean &lt;dbl&gt; | Malicacid_sd &lt;dbl&gt; | Malicacid_min &lt;dbl&gt; | Malicacid_max &lt;dbl&gt; | Ash_mean &lt;dbl&gt; | Ash_sd &lt;dbl&gt; | ⋯ ⋯ | 0D280_0D315_of_diluted_wines_min &lt;dbl&gt; | 0D280_0D315_of_diluted_wines_max &lt;dbl&gt; | Proline_mean &lt;dbl&gt; | Proline_sd &lt;dbl&gt; | Proline_min &lt;dbl&gt; | Proline_max &lt;dbl&gt; | class_mean &lt;dbl&gt; | class_sd &lt;dbl&gt; | class_min &lt;dbl&gt; | class_max &lt;dbl&gt; |\n",
       "|---|---|---|---|---|---|---|---|---|---|---|---|---|---|---|---|---|---|---|---|---|\n",
       "| 13.00062 | 0.8118265 | 11.03 | 14.83 | 2.336348 | 1.117146 | 0.74 | 5.8 | 2.366517 | 0.274344 | ⋯ | 1.27 | 4 | 746.8933 | 314.9075 | 278 | 1680 | 1.938202 | 0.775035 | 1 | 3 |\n",
       "\n"
      ],
      "text/plain": [
       "  Alcohol_mean Alcohol_sd Alcohol_min Alcohol_max Malicacid_mean Malicacid_sd\n",
       "1 13.00062     0.8118265  11.03       14.83       2.336348       1.117146    \n",
       "  Malicacid_min Malicacid_max Ash_mean Ash_sd   ⋯\n",
       "1 0.74          5.8           2.366517 0.274344 ⋯\n",
       "  0D280_0D315_of_diluted_wines_min 0D280_0D315_of_diluted_wines_max\n",
       "1 1.27                             4                               \n",
       "  Proline_mean Proline_sd Proline_min Proline_max class_mean class_sd class_min\n",
       "1 746.8933     314.9075   278         1680        1.938202   0.775035 1        \n",
       "  class_max\n",
       "1 3        "
      ]
     },
     "metadata": {},
     "output_type": "display_data"
    }
   ],
   "source": [
    "setwd('C:/Users/keert/BIOS512/R_datasets')\n",
    "library(tidyverse)\n",
    "install.packages(\"Rtsne\")\n",
    "wine_df <- read_csv('wine.csv')\n",
    "glimpse(wine_df)\n",
    "wine_df %>%\n",
    "  summarise(across(where(is.numeric),\n",
    "                   list(mean = ~mean(.x, na.rm = TRUE),\n",
    "                        sd   = ~sd(.x, na.rm = TRUE),\n",
    "                        min  = ~min(.x, na.rm = TRUE),\n",
    "                        max  = ~max(.x, na.rm = TRUE))))"
   ]
  },
  {
   "cell_type": "markdown",
   "id": "8b014e07-ef4f-40f4-89f0-723538811150",
   "metadata": {},
   "source": [
    "## Question 2\n",
    "\n",
    "#### a) Scale and center your data  \n",
    "*Hint:* Use a `mutate()` statement across all columns **except class** with `function(x) as.numeric(scale(x))`.\n",
    "\n",
    "#### b) Based on what you saw in the summary statistic table from the imported data, why would scaling and centering this data be helpful before we perform PCA?\n"
   ]
  },
  {
   "cell_type": "code",
   "execution_count": 18,
   "id": "c2a2adf5-19aa-4142-8804-02723d71cecc",
   "metadata": {},
   "outputs": [],
   "source": [
    "wine_scaled <- wine_df %>% mutate(across(-class, function(x) as.numeric(scale(x, center = TRUE, scale = TRUE))))                                    "
   ]
  },
  {
   "cell_type": "markdown",
   "id": "3f994226-5b8c-4846-98ae-c62bf56c9020",
   "metadata": {},
   "source": [
    "Scaling and centering help with calculating prinicpal components. Scaling helps apply a scale or bounds to the data and centering provides a centroid or origin point to rotate or reorient the data around. Scaling and centering can reduce the impact of spikes in data. Scaling is also particularly useful when we don't know the importance of variables in the dataset and ensures all variables are equally weighted to calculate variance.  "
   ]
  },
  {
   "cell_type": "markdown",
   "id": "087a7186-b2e5-42a1-bfab-ee2945878553",
   "metadata": {},
   "source": [
    "## Question 3\n",
    "\n",
    "#### a) Perform PCA\n",
    "\n",
    "#### b) How much of the total variance is explained by PC1? PC2? What function do we use to see that information?\n",
    "\n",
    "#### c) Why are we doing PCA first?\n",
    "\n",
    "#### d) What is the rotation matrix? Print it explicitly.  \n",
    "*Hint:* Check the notes for a simple way to do this!\n",
    "\n",
    "#### e) Plot PC1 vs. PC2, using the wine class as labels for coloring.  \n",
    "*Hint:* You'll first need a data set with only PC1 and PC2, then add back the class variable from your scaled data set with a `mutate()` statement. Then, you can use `color = factor(class)` in your `ggplot` statement.\n",
    "\n",
    "#### f) What do you see after plotting PC1 vs. PC2? What does this mean in context of wine classes?\n",
    "\n",
    "#### g) Give an example of data where PCA would fail. You can describe the data or do a simulation.  \n",
    "*Hint:* Our notes have a few examples!\n",
    "\n",
    "#### h) Explain the difference between vector space and manifold, and how these terms apply to what we did/will do with T-SNE.\n"
   ]
  },
  {
   "cell_type": "code",
   "execution_count": 19,
   "id": "8c68166d-d3b3-4d82-b594-697531dad51a",
   "metadata": {},
   "outputs": [
    {
     "data": {
      "text/plain": [
       "Importance of components:\n",
       "                         PC1    PC2    PC3     PC4     PC5     PC6     PC7\n",
       "Standard deviation     2.169 1.5802 1.2025 0.95863 0.92370 0.80103 0.74231\n",
       "Proportion of Variance 0.362 0.1921 0.1112 0.07069 0.06563 0.04936 0.04239\n",
       "Cumulative Proportion  0.362 0.5541 0.6653 0.73599 0.80162 0.85098 0.89337\n",
       "                           PC8     PC9   PC10    PC11    PC12    PC13\n",
       "Standard deviation     0.59034 0.53748 0.5009 0.47517 0.41082 0.32152\n",
       "Proportion of Variance 0.02681 0.02222 0.0193 0.01737 0.01298 0.00795\n",
       "Cumulative Proportion  0.92018 0.94240 0.9617 0.97907 0.99205 1.00000"
      ]
     },
     "metadata": {},
     "output_type": "display_data"
    }
   ],
   "source": [
    "# Perform PCA\n",
    "PCA1 <- prcomp(wine_scaled[ ,!(names(wine_scaled) %in% \"class\")])\n",
    "summary(PCA1)"
   ]
  },
  {
   "cell_type": "markdown",
   "id": "3fc3d2f2-3369-46e6-8b9a-77c611c25183",
   "metadata": {},
   "source": [
    "b) The proportion of variance explained by PC1 is 0.9981 and PC2 is 0.00174. You need to use the summary() command to see the information about proportion of variance and cumulative proportion"
   ]
  },
  {
   "cell_type": "markdown",
   "id": "cd63fb0f-0144-4ea1-93f0-b6e9cc6f229f",
   "metadata": {},
   "source": [
    "c) Doing PCA first gives us a basic understanding of how many components seem to be capturing most of the variance in the dataset. It helps reduce the dimensionality of the data while still capturing most of the original information. Can help us remove variables and simplify our dataset for further analysis."
   ]
  },
  {
   "cell_type": "code",
   "execution_count": 17,
   "id": "a810fd15-a3f9-41bb-acfd-268b69ef9645",
   "metadata": {},
   "outputs": [
    {
     "name": "stdout",
     "output_type": "stream",
     "text": [
      "          Alcohol    Malicacid           Ash Alcalinity_of_ash     Magnesium\n",
      "PC1  -0.001659262  0.000681019 -0.0001949052      0.0046713046 -0.0178679787\n",
      "PC2  -0.001204267 -0.002159531 -0.0045939956     -0.0264607000 -0.9993399019\n",
      "PC3  -0.018303544 -0.124559463 -0.0512928854     -0.9280998612  0.0299845440\n",
      "PC4  -0.136988601 -0.156739376  0.0120471220      0.3569901026  0.0047541167\n",
      "PC5  -0.048932608  0.528930958 -0.0258456588     -0.0696112674  0.0064521234\n",
      "PC6  -0.202080449 -0.803839930 -0.0416939040      0.0238595161  0.0013490076\n",
      "PC7  -0.890116287  0.146858065 -0.0503492983     -0.0359371988 -0.0020650272\n",
      "PC8   0.349028029 -0.075520736 -0.1505280897      0.0113920692 -0.0035686385\n",
      "PC9  -0.104297167 -0.010225516 -0.0688814741      0.0024412832  0.0016323068\n",
      "PC10  0.057590221 -0.033610083 -0.1071613371     -0.0099803583  0.0008647093\n",
      "PC11 -0.089074918  0.007743620  0.3532557832     -0.0026586178 -0.0016384061\n",
      "PC12 -0.034776706  0.035736284 -0.8914868566      0.0593105853  0.0026202766\n",
      "PC13  0.004240326 -0.063235696  0.0864880935     -0.0002694858 -0.0005009661\n",
      "PC14 -0.013421986  0.012054869  0.1623445805      0.0000648327 -0.0022712694\n",
      "     Total_phenols    Flavanoids Nonflavanoid_phenols Proanthocyanins\n",
      "PC1  -0.0009898316 -1.567293e-03         1.230870e-04   -0.0006006091\n",
      "PC2  -0.0008747309  5.865826e-05         1.353994e-03   -0.0050022272\n",
      "PC3   0.0427611042  9.026712e-02        -1.372151e-02    0.0262371281\n",
      "PC4   0.0764520642  1.721910e-01        -1.059355e-02    0.0516064064\n",
      "PC5  -0.3200809038 -5.356956e-01         2.928887e-02   -0.2537870717\n",
      "PC6  -0.2283196597 -3.576451e-01         1.695159e-02   -0.1971812684\n",
      "PC7   0.0656798363  7.945528e-02         5.403887e-05    0.3517403741\n",
      "PC8  -0.0899029662 -2.049005e-01         9.899527e-04    0.8477275747\n",
      "PC9  -0.3642318860 -3.849304e-01        -2.887276e-02    0.1212944680\n",
      "PC10  0.7196957875 -3.184590e-01        -1.779350e-02   -0.1040244264\n",
      "PC11  0.3933791381 -4.852223e-01         1.750693e-01    0.1313895856\n",
      "PC12  0.1356767510 -8.051266e-02        -1.164653e-01   -0.0870444616\n",
      "PC13  0.0190815760  1.971202e-04        -1.329541e-01    0.0150250471\n",
      "PC14  0.0346476797 -8.667150e-02        -9.672182e-01    0.0192925906\n",
      "     Color_intensity           Hue 0D280_0D315_of_diluted_wines       Proline\n",
      "PC1     -0.002327127 -0.0001713811                -0.0007049359 -9.998217e-01\n",
      "PC2     -0.015114222  0.0007640425                 0.0035006841  1.776936e-02\n",
      "PC3     -0.303202978  0.0269922728                 0.0743661999 -4.626560e-03\n",
      "PC4     -0.856516199  0.0590553104                 0.1785261365  2.950572e-03\n",
      "PC5     -0.367299181 -0.0459428283                -0.2692966317  2.713180e-03\n",
      "PC6      0.005507929  0.0304131732                -0.2491509322  1.211259e-03\n",
      "PC7      0.093289667 -0.0295825015                -0.0799840472  1.178372e-03\n",
      "PC8     -0.108371911 -0.0028166794                -0.1809239620  9.491742e-05\n",
      "PC9      0.110800752 -0.0270861423                 0.8045947027 -2.980272e-05\n",
      "PC10    -0.044505233 -0.0519432038                 0.2960758515  3.880366e-04\n",
      "PC11     0.035782346  0.0827103412                -0.1794317102 -5.285291e-04\n",
      "PC12     0.037634960 -0.0247920048                -0.1302389934 -4.693355e-05\n",
      "PC13    -0.042566841 -0.9786547239                -0.0380187048  4.006096e-05\n",
      "PC14     0.007836890  0.1523549919                -0.0567507106 -6.726096e-05\n",
      "            class\n",
      "PC1   0.001559343\n",
      "PC2  -0.002778618\n",
      "PC3  -0.100919962\n",
      "PC4  -0.147645845\n",
      "PC5   0.219197410\n",
      "PC6   0.168685378\n",
      "PC7   0.178800746\n",
      "PC8   0.190995227\n",
      "PC9  -0.165827952\n",
      "PC10  0.510993277\n",
      "PC11 -0.623529116\n",
      "PC12 -0.366354279\n",
      "PC13 -0.095987646\n",
      "PC14 -0.047158078\n"
     ]
    }
   ],
   "source": [
    "# d) rotation matrix\n",
    "R <- solve(PCA1$rotation)\n",
    "print(R)"
   ]
  },
  {
   "cell_type": "code",
   "execution_count": 22,
   "id": "6c60009a-cbcf-4617-9609-2757f290dd2e",
   "metadata": {},
   "outputs": [
    {
     "data": {
      "image/png": "[encoded data removed]",
      "text/plain": [
       "plot without title"
      ]
     },
     "metadata": {
      "image/png": {
       "height": 420,
       "width": 420
      }
     },
     "output_type": "display_data"
    }
   ],
   "source": [
    "# e) Plot\n",
    "PC_scores <- as.data.frame(PCA1$x)\n",
    "PC_plot <- PC_scores %>% mutate(class = wine_scaled$class)\n",
    "library(ggplot2)\n",
    "print(ggplot(PC_plot, aes(x=PC1, y=PC2, color = factor(class))) + geom_point(size = 2) + coord_fixed())"
   ]
  },
  {
   "cell_type": "markdown",
   "id": "d4ef2e2a-e5ba-4054-9bfc-484f07f9d052",
   "metadata": {},
   "source": [
    "f) There seems to be 3 separate clusters based on the class on wine when you use the first 2 principal components to plot."
   ]
  },
  {
   "cell_type": "markdown",
   "id": "55f5bd4e-eed7-49dd-8c8f-c9d7e08a4ad1",
   "metadata": {},
   "source": [
    "g) PCA fails if the data is non-linear. For example if the data points are arranged spherically, the components will be random axes and may be different each time."
   ]
  },
  {
   "cell_type": "markdown",
   "id": "b50eb7bc-b69e-4154-809d-b88b307c2025",
   "metadata": {},
   "source": [
    "h) h) Explain the difference between vector space and manifold, and how these terms apply to what we did/will do with T-SNE.\n",
    "\n",
    "A vector space is a set of vectors that can be transformed linearly and must always be linear - assumes that the data is entirely on one plane. A manifold can follow the properities of a vector space locally, but when looking globally it can be non-linear. T-SNE assumes that our data is a manifold and allow us to look at data as linear at local points and then put it together to characterize the overall data."
   ]
  },
  {
   "cell_type": "markdown",
   "id": "ec52868c-a2a4-412a-a621-bbe2d4d5020e",
   "metadata": {},
   "source": [
    "## Question 4\n",
    "#### a) Perform T-SNE\n",
    "Set `seed = 123`.  \n",
    "*Hint:* Subset your PCA results to PC1–PC10, add the class variable back in, remove duplicates, then perform T-SNE.\n",
    "\n",
    "#### b) Plot the results in 2D\n",
    "*Hint:* Convert your T-SNE results to a tibble and add back the class variable from your scaled data set using a `mutate()` statement. Then, you can use `color = factor(class)` in your `ggplot` statement.\n",
    "\n",
    "#### c) Why didn't we stop at PCA?\n",
    "\n",
    "\n",
    "#### d) What other types of data does this workflow make sense for?\n",
    "\n"
   ]
  },
  {
   "cell_type": "code",
   "execution_count": 25,
   "id": "b7a0de52-e766-4c1a-81b6-1c9cddead80f",
   "metadata": {},
   "outputs": [],
   "source": [
    "# a) T-SNE\n",
    "library(Rtsne)\n",
    "PC_subset <- as.data.frame(PCA1$x[, 1:10]) %>% \n",
    "  mutate(class = wine_scaled$class) %>% \n",
    "  distinct()\n",
    "set.seed(123)  \n",
    "tsne_out <- Rtsne(PC_subset %>% select(-class), dims = 2, perplexity = 30)\n",
    "tsne_df <- as.data.frame(tsne_out$Y) %>% \n",
    "  mutate(class = PC_subset$class)\n",
    "colnames(tsne_df)[1:2] <- c(\"tSNE1\", \"tSNE2\")"
   ]
  },
  {
   "cell_type": "code",
   "execution_count": 26,
   "id": "77ff2e11-dfa1-4a80-afe5-c033090e5a29",
   "metadata": {},
   "outputs": [
    {
     "data": {
      "image/png": "[encoded data removed]",
      "text/plain": [
       "plot without title"
      ]
     },
     "metadata": {
      "image/png": {
       "height": 420,
       "width": 420
      }
     },
     "output_type": "display_data"
    }
   ],
   "source": [
    "# b) plot\n",
    "ggplot(tsne_df, aes(x = tSNE1, y = tSNE2, color = factor(class))) +\n",
    "  geom_point(size = 2)"
   ]
  },
  {
   "cell_type": "markdown",
   "id": "800f52b6-87a6-4138-ad5d-865c299069ef",
   "metadata": {},
   "source": [
    "c) Using T-SNE can check whether the data is actually non-linear globally. If you get different results with PCA and T-SNE, that can suggest that there is some non-linearity in the data"
   ]
  },
  {
   "cell_type": "markdown",
   "id": "f8c0e81c-f9f5-4c1b-bfd5-71636c3a5376",
   "metadata": {},
   "source": [
    "d) You can use this workflow for multiple dimension data - PCA lets you breakdown data into lower dimensions and independent components, then allowing T-SNE to cluster more effectively. Also, used for non-linear data and can capture clusters well in non-linear data"
   ]
  }
 ],
 "metadata": {
  "kernelspec": {
   "display_name": "R",
   "language": "R",
   "name": "ir"
  },
  "language_info": {
   "codemirror_mode": "r",
   "file_extension": ".r",
   "mimetype": "text/x-r-source",
   "name": "R",
   "pygments_lexer": "r",
   "version": "4.4.2"
  }
 },
 "nbformat": 4,
 "nbformat_minor": 5
}
