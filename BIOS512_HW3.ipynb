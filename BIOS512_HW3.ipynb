{
 "cells": [
  {
   "cell_type": "markdown",
   "id": "45ef956f",
   "metadata": {},
   "source": [
    "# Homework 03 - Nonstandard Evaluation and Git\n",
    "\n",
    "## Nonstandard Evaluation\n"
   ]
  },
  {
   "cell_type": "markdown",
   "id": "7cd69759",
   "metadata": {
    "vscode": {
     "languageId": "r"
    }
   },
   "source": [
    "### Question 1\n",
    "Imagine we have a data frame called `data`, with a `type` column. Which one works and why?\\\n",
    "Function 1:\n",
    "```\n",
    "group_and_tally <- function(df, column){\n",
    "    df %>% group_by({{ column }}) %>% tally();\n",
    "}\n",
    "group_and_tally(data, type);\n",
    "```\n",
    "\n",
    "Function 2:\n",
    "```\n",
    "group_and_tally <- function(df, column){\n",
    "    df %>% group_by(column) %>% tally();\n",
    "}\n",
    "group_and_tally(data, type);\n",
    "```\n",
    "\n",
    "\n",
    "Function 1 will work correctly because the curly brackets around column will allow you to run it without quotations (called tidy evaluation)\n",
    "Function 2 will not work correctly because it will think you are referring to a specifc column nameed \"column\""
   ]
  },
  {
   "cell_type": "code",
   "execution_count": 11,
   "id": "eb1690a1-4ccd-4b8c-81d1-9c1be229bdf7",
   "metadata": {},
   "outputs": [
    {
     "ename": "ERROR",
     "evalue": "Error in UseMethod(\"group_by\"): no applicable method for 'group_by' applied to an object of class \"function\"\n",
     "output_type": "error",
     "traceback": [
      "Error in UseMethod(\"group_by\"): no applicable method for 'group_by' applied to an object of class \"function\"\nTraceback:\n",
      "1. df %>% group_by({\n .     {\n .         column\n .     }\n . }) %>% tally()",
      "2. tally(.)",
      "3. group_by(., {\n .     {\n .         column\n .     }\n . })",
      "4. .handleSimpleError(function (cnd) \n . {\n .     watcher$capture_plot_and_output()\n .     cnd <- sanitize_call(cnd)\n .     watcher$push(cnd)\n .     switch(on_error, continue = invokeRestart(\"eval_continue\"), \n .         stop = invokeRestart(\"eval_stop\"), error = NULL)\n . }, \"no applicable method for 'group_by' applied to an object of class \\\"function\\\"\", \n .     base::quote(UseMethod(\"group_by\")))"
     ]
    }
   ],
   "source": [
    "group_and_tally <- function(df, column){\n",
    "    df %>% group_by({{ column }}) %>% tally();\n",
    "}\n",
    "group_and_tally(data, type);"
   ]
  },
  {
   "cell_type": "code",
   "execution_count": 12,
   "id": "c35f3ca4-ff6e-44a3-8f4b-c5a40373951b",
   "metadata": {},
   "outputs": [
    {
     "ename": "ERROR",
     "evalue": "Error in UseMethod(\"group_by\"): no applicable method for 'group_by' applied to an object of class \"function\"\n",
     "output_type": "error",
     "traceback": [
      "Error in UseMethod(\"group_by\"): no applicable method for 'group_by' applied to an object of class \"function\"\nTraceback:\n",
      "1. df %>% group_by(column) %>% tally()",
      "2. tally(.)",
      "3. group_by(., column)",
      "4. .handleSimpleError(function (cnd) \n . {\n .     watcher$capture_plot_and_output()\n .     cnd <- sanitize_call(cnd)\n .     watcher$push(cnd)\n .     switch(on_error, continue = invokeRestart(\"eval_continue\"), \n .         stop = invokeRestart(\"eval_stop\"), error = NULL)\n . }, \"no applicable method for 'group_by' applied to an object of class \\\"function\\\"\", \n .     base::quote(UseMethod(\"group_by\")))"
     ]
    }
   ],
   "source": [
    "group_and_tally <- function(df, column){\n",
    "    df %>% group_by(column) %>% tally();\n",
    "}\n",
    "group_and_tally(data, type);"
   ]
  },
  {
   "cell_type": "markdown",
   "id": "d0653501",
   "metadata": {},
   "source": [
    "## Git\n",
    "For the questions below, please add the commands you used to complete these steps.\n",
    "\n",
    "### Question 2\n",
    "Set up your git repo on your local computer. If you already make a git repo on GitHub, but it isn’t on your local computer - clone it.\n",
    "\n",
    "Git Commands used:\\\n",
    "mkdir BIOS512\\\n",
    "cd BIOS512\\\n",
    "git init\n"
   ]
  },
  {
   "cell_type": "markdown",
   "id": "9639ba6c",
   "metadata": {
    "vscode": {
     "languageId": "shellscript"
    }
   },
   "source": [
    "### Question 3\n",
    "Set up your SSH key.\n",
    "\n",
    "Git Commands used:\\\n",
    "git config --global user.name \"Keerti Kalluru\"\\\n",
    "git config --global user.email \"keertikalluru@gmail.com\"\\\n",
    "ssh-keygen -t ed25519 -C \"keertikalluru@gmail.com\"\\\n",
    "entered passphrase\\\n",
    "eval \"$(ssh-agent -s)\"\\\n",
    "ssh-add ~/.ssh/id_ed25519\\\n",
    "cat ~/.ssh/id_ed25519.pub\\\n",
    "ssh -T git@github.com\n",
    "\n"
   ]
  },
  {
   "cell_type": "markdown",
   "id": "bcd83789",
   "metadata": {},
   "source": [
    "### Question 4\n",
    "a) Add a HW2 directory to your git repo through the terminal with a HW.md file that says \"This is for homework 2.\"\n",
    "\n",
    "Git Commands used:\\\n",
    "cd C:/Users/keert/BIOS512\\\n",
    "mkdir HW2\\\n",
    "touch HW2/HW.md\\\n",
    "git add HW2/HW.md\\\n",
    "git commit -m \"Add new directory with HW.md\"\\\n",
    "echo \"This is for homework 2\" >> HW2/HW.md\\\n",
    "git add HW2/HW.md\\\n",
    "git commit -m \"Add content to HW.md\"\n",
    "\n"
   ]
  },
  {
   "cell_type": "markdown",
   "id": "0a600019",
   "metadata": {},
   "source": [
    "b) *Add* HW2.md to the staging area. Then, use the command to see which files have been modified, staged for commit, or are untracked. What does it show?\n",
    "They should copy paste the terminal response after git status, and show that key used the commands below.\n",
    "\n",
    "git add HW2/HW.md\\\n",
    "git status\n",
    "\n",
    "output:\\\n",
    "keert@Keerti MINGW64 ~/BIOS512 (main)\\\n",
    "$ git status\\\n",
    "On branch main\\\n",
    "Untracked files:\\\n",
    "  (use \"git add <file>...\" to include in what will be committed)\\\n",
    "        .ipynb_checkpoints/\\\n",
    "        BIOS512_HW3.ipynb\\\n",
    "        HW2/.ipynb_checkpoints/\\\n",
    "        R_datasets/\\\n",
    "        id info.txt\n",
    "\n",
    "nothing added to commit but untracked files present (use \"git add\" to track)\n"
   ]
  },
  {
   "cell_type": "markdown",
   "id": "51a1c8a9",
   "metadata": {},
   "source": [
    "c) Save file changes to the main branch.\n",
    "\n",
    "git add BIOS512_HW3.ipynb\\\n",
    "git commit -m \"Update BIOS512_HW3.ipynb\"\\\n",
    "[main 23f5d2c] Update BIOS512_HW3.ipynb\\\n",
    " 1 file changed, 356 insertions(+)\\\n",
    " create mode 100644 BIOS512_HW3.ipynb\n"
   ]
  },
  {
   "cell_type": "markdown",
   "id": "7ab5dd9a",
   "metadata": {},
   "source": [
    "d) Now, edit the HW2.md file to give it a title.\n",
    "\n"
   ]
  },
  {
   "cell_type": "markdown",
   "id": "dd391254",
   "metadata": {},
   "source": [
    "e) Use the command that compares current, unsaved changes to the main branch. What does it say?\n",
    "\\\n",
    "git diff\n",
    "\n",
    "showing line for line what is different in the changed files\n",
    "\n",
    "f) Use the command that checks the status of the working directory and the staging area *again*. What does it say?\\\n",
    "\\\n",
    "git status\n",
    "tells you which files have changes to push/commit to the online version\n",
    "\n",
    "g) Once again, add HW2.md to the staging area and save the file changes to the main branch. Then, get use the command that gives you project history and paste the output in your homework.\n",
    "\n",
    "keert@Keerti MINGW64 ~/BIOS512 (main)\n",
    "$ git log\n",
    "commit 7b0c40111c070cd8496dffc3bf1924343b2d3439 (HEAD -> main)\n",
    "Author: keertikalluru <keertikalluru@gmail.com>\n",
    "Date:   Thu Sep 11 20:53:11 2025 -0400\n",
    "\n",
    "    add file\n",
    "\n",
    "commit b0d94d37651be3f5dc9febbbd769b1fcfac7f82a\n",
    "Author: keertikalluru <keertikalluru@gmail.com>\n",
    "Date:   Thu Sep 11 20:50:51 2025 -0400\n",
    "\n",
    "    Add file\n",
    "\n",
    "commit e26ebcca21c15efef5858e56bb24dcc8b2f18b89\n",
    "Author: keertikalluru <keertikalluru@gmail.com>\n",
    "Date:   Thu Sep 11 20:49:24 2025 -0400\n",
    "\n",
    "    Add file\n",
    "\n",
    "commit 23f5d2c9e6c112438e837fed67a82ff7bfc9fd55\n",
    "Author: keertikalluru <keertikalluru@gmail.com>\n",
    "Date:   Thu Sep 11 20:42:27 2025 -0400\n",
    "\n",
    "    Update BIOS512_HW3.ipynb\n",
    "\n",
    "commit 43ac16fb6406528a75ea0655ce4749fef8484954\n",
    "Author: keertikalluru <keertikalluru@gmail.com>\n",
    "Date:   Thu Sep 11 19:13:20 2025 -0400\n",
    "\n",
    "    Add content to HW.md\n",
    "\n",
    "commit db72b1b54534655d8c4bf5dca2f957e38ab13847\n",
    "Author: keertikalluru <keertikalluru@gmail.com>\n",
    "Date:   Thu Sep 11 19:09:30 2025 -0400\n",
    "\n",
    "    Add new directory with HW.md\n",
    "\n",
    "commit 7b85b5373e56c4045d96ce34f89300d49d312196 (origin/main)\n",
    "Author: keertikalluru <keertikalluru@gmail.com>\n",
    "Date:   Thu Aug 28 15:43:51 2025 -0400\n",
    "\n",
    "    update\n",
    "\n",
    "commit 5056bd7662f6895094f6b826b9d82113434bc6d2\n",
    "Author: keertikalluru <keertikalluru@gmail.com>\n",
    "Date:   Thu Aug 28 15:22:39 2025 -0400\n",
    "\n",
    "    initial commit\n"
   ]
  },
  {
   "cell_type": "markdown",
   "id": "a19411e1",
   "metadata": {},
   "source": [
    "h) Do some searching... What `git` command will provide you documentation on other commands? Use that command to find documentation on `git log` and `git show`. What does `--since` mean in regards to `git log`? Copy and paste what is written in the documentation.\n",
    "\n",
    "--since is using to filter for the point after which you want to see the log history\n",
    "Here is the documentation: \"Using more options generally further limits the output (e.g. --since=<date1> limits to commits newer than <date1>, and using it with --grep=<pattern> further limits to commits whose log message has a line that matches <pattern>), unless otherwise noted.\""
   ]
  },
  {
   "cell_type": "markdown",
   "id": "ba302ef2",
   "metadata": {},
   "source": [
    "## Tidyverse\n",
    "\n",
    "Note: Please make sure Binder is set up correctly to run this section. You can follow the instructions here: https://github.com/rjenki/BIOS512. "
   ]
  },
  {
   "cell_type": "markdown",
   "id": "78255223",
   "metadata": {},
   "source": [
    "**Please show your code for this section!** Before completing this section, please run the following."
   ]
  },
  {
   "cell_type": "code",
   "execution_count": 13,
   "id": "1f1bd613",
   "metadata": {
    "vscode": {
     "languageId": "r"
    }
   },
   "outputs": [],
   "source": [
    "library(tidyverse)\n",
    "if (!dir.exists(\"intermediate\")) dir.create(\"intermediate\", recursive = TRUE)\n",
    "if (!exists(\"mdpre\")) mdpre <- function(x) { print(x) }\n",
    "if (!exists(\"ggmd\"))  ggmd  <- function(p) { print(p) }"
   ]
  },
  {
   "cell_type": "code",
   "execution_count": 14,
   "id": "11737283-005e-4b3c-aaed-c4a93b4c4769",
   "metadata": {},
   "outputs": [
    {
     "name": "stderr",
     "output_type": "stream",
     "text": [
      "\u001b[1mRows: \u001b[22m\u001b[34m974\u001b[39m \u001b[1mColumns: \u001b[22m\u001b[34m7\u001b[39m\n",
      "\u001b[36m──\u001b[39m \u001b[1mColumn specification\u001b[22m \u001b[36m─────────────────────────────────────────────────────────────────────────────────────────────────────────────────────────────────────────────────────────────────────────────────────────────────────────────────────\u001b[39m\n",
      "\u001b[1mDelimiter:\u001b[22m \",\"\n",
      "\u001b[31mchr\u001b[39m (7): ID, BIRTHDATE, DEATHDATE, FIRST, LAST, CITY, STATE\n",
      "\n",
      "\u001b[36mℹ\u001b[39m Use `spec()` to retrieve the full column specification for this data.\n",
      "\u001b[36mℹ\u001b[39m Specify the column types or set `show_col_types = FALSE` to quiet this message.\n",
      "\u001b[1mRows: \u001b[22m\u001b[34m3896\u001b[39m \u001b[1mColumns: \u001b[22m\u001b[34m3\u001b[39m\n",
      "\u001b[36m──\u001b[39m \u001b[1mColumn specification\u001b[22m \u001b[36m─────────────────────────────────────────────────────────────────────────────────────────────────────────────────────────────────────────────────────────────────────────────────────────────────────────────────────\u001b[39m\n",
      "\u001b[1mDelimiter:\u001b[22m \",\"\n",
      "\u001b[31mchr\u001b[39m (3): ID, property, value\n",
      "\n",
      "\u001b[36mℹ\u001b[39m Use `spec()` to retrieve the full column specification for this data.\n",
      "\u001b[36mℹ\u001b[39m Specify the column types or set `show_col_types = FALSE` to quiet this message.\n",
      "\u001b[1mRows: \u001b[22m\u001b[34m974\u001b[39m \u001b[1mColumns: \u001b[22m\u001b[34m7\u001b[39m\n",
      "\u001b[36m──\u001b[39m \u001b[1mColumn specification\u001b[22m \u001b[36m─────────────────────────────────────────────────────────────────────────────────────────────────────────────────────────────────────────────────────────────────────────────────────────────────────────────────────\u001b[39m\n",
      "\u001b[1mDelimiter:\u001b[22m \",\"\n",
      "\u001b[31mchr\u001b[39m (7): ID, BIRTHDATE, DEATHDATE, FIRST, LAST, CITY, STATE\n",
      "\n",
      "\u001b[36mℹ\u001b[39m Use `spec()` to retrieve the full column specification for this data.\n",
      "\u001b[36mℹ\u001b[39m Specify the column types or set `show_col_types = FALSE` to quiet this message.\n",
      "\u001b[1mRows: \u001b[22m\u001b[34m3896\u001b[39m \u001b[1mColumns: \u001b[22m\u001b[34m3\u001b[39m\n",
      "\u001b[36m──\u001b[39m \u001b[1mColumn specification\u001b[22m \u001b[36m─────────────────────────────────────────────────────────────────────────────────────────────────────────────────────────────────────────────────────────────────────────────────────────────────────────────────────\u001b[39m\n",
      "\u001b[1mDelimiter:\u001b[22m \",\"\n",
      "\u001b[31mchr\u001b[39m (3): ID, property, value\n",
      "\n",
      "\u001b[36mℹ\u001b[39m Use `spec()` to retrieve the full column specification for this data.\n",
      "\u001b[36mℹ\u001b[39m Specify the column types or set `show_col_types = FALSE` to quiet this message.\n"
     ]
    },
    {
     "name": "stdout",
     "output_type": "stream",
     "text": [
      "\u001b[90m# A tibble: 10 × 7\u001b[39m\n",
      "   ID                              BIRTHDATE  DEATHDATE  FIRST LAST  CITY  STATE\n",
      "   \u001b[3m\u001b[90m<chr>\u001b[39m\u001b[23m                           \u001b[3m\u001b[90m<date>\u001b[39m\u001b[23m     \u001b[3m\u001b[90m<date>\u001b[39m\u001b[23m     \u001b[3m\u001b[90m<chr>\u001b[39m\u001b[23m \u001b[3m\u001b[90m<chr>\u001b[39m\u001b[23m \u001b[3m\u001b[90m<chr>\u001b[39m\u001b[23m \u001b[3m\u001b[90m<chr>\u001b[39m\u001b[23m\n",
      "\u001b[90m 1\u001b[39m 5605b66b-e92d-c16c-1b83-b8bf70… 1977-03-19 \u001b[31mNA\u001b[39m         Niki… Erdm… Quin… Mass…\n",
      "\u001b[90m 2\u001b[39m 6e5ae27c-8038-7988-e2c0-25a103… 1940-02-19 \u001b[31mNA\u001b[39m         Zane… Hodk… Bost… Mass…\n",
      "\u001b[90m 3\u001b[39m 8123d076-0886-9007-e956-d5864a… 1958-06-04 \u001b[31mNA\u001b[39m         Quin… Marq… Quin… Mass…\n",
      "\u001b[90m 4\u001b[39m 770518e4-6133-648e-60c9-071eb2… 1928-12-25 2017-09-29 Abel… Smit… Bost… Mass…\n",
      "\u001b[90m 5\u001b[39m f96addf5-81b9-0aab-7855-d208d3… 1928-12-25 2014-02-23 Edwi… Laba… Bost… Mass…\n",
      "\u001b[90m 6\u001b[39m 8e9650d1-788a-78f9-4a28-d08f7f… 1928-12-25 \u001b[31mNA\u001b[39m         Fran… Ober… Bost… Mass…\n",
      "\u001b[90m 7\u001b[39m 183df435-4190-060e-8f8e-bf63c5… 1957-11-08 \u001b[31mNA\u001b[39m         Eile… Wals… Camb… Mass…\n",
      "\u001b[90m 8\u001b[39m 720560d4-51da-c38c-ee90-c15935… 1972-06-27 \u001b[31mNA\u001b[39m         Lowe… Pric… Quin… Mass…\n",
      "\u001b[90m 9\u001b[39m 217851b0-5f47-d376-18b9-0fe4ba… 1954-03-06 \u001b[31mNA\u001b[39m         Adri… Glea… Bost… Mass…\n",
      "\u001b[90m10\u001b[39m ff331e5c-ab16-e218-f39a-63e11d… 1927-07-10 \u001b[31mNA\u001b[39m         Euge… Aber… Bost… Mass…\n"
     ]
    }
   ],
   "source": [
    "setwd('C:/Users/keert/BIOS512/R_datasets')\n",
    "names_df <- read_csv('patient_names.csv')\n",
    "properties_df <- read_csv('patient_properties.csv')\n",
    "setwd('C:/Users/keert/BIOS512/R_datasets')\n",
    "library(tidyverse)\n",
    "names_df <- read_csv('patient_names.csv')\n",
    "properties_df <- read_csv('patient_properties.csv')\n",
    "fix_2digit_years <- function(date_str) {\n",
    "  parsed <- as.Date(date_str, format = \"%m/%d/%y\")\n",
    "    # shift future dates back 100 years\n",
    "  parsed <- ifelse(parsed > Sys.Date(), \n",
    "                   as.Date(format(parsed, \"%Y-%m-%d\")) - lubridate::years(100), \n",
    "                   parsed)\n",
    "  # Return as proper Date object\n",
    "  as.Date(parsed, origin = \"1970-01-01\")\n",
    "}\n",
    "names_df$BIRTHDATE <- fix_2digit_years(names_df$BIRTHDATE)\n",
    "names_df$DEATHDATE <- fix_2digit_years(names_df$DEATHDATE)\n",
    "\n",
    "print(head(names_df, 10))"
   ]
  },
  {
   "cell_type": "markdown",
   "id": "cc6f646b",
   "metadata": {},
   "source": [
    "### Question 6\n",
    "In the data frame pulled from patient_properties, you'll notice that the data is long, not wide. Do a pivot to make the properties their own columns. Print the first 10 observations after you do so."
   ]
  },
  {
   "cell_type": "code",
   "execution_count": 15,
   "id": "59f65ce7-22ea-443d-a0de-a76f8a48f54e",
   "metadata": {},
   "outputs": [
    {
     "name": "stdout",
     "output_type": "stream",
     "text": [
      "\u001b[90m# A tibble: 10 × 5\u001b[39m\n",
      "   ID                                   MARITAL RACE   ETHNICITY   GENDER\n",
      "   \u001b[3m\u001b[90m<chr>\u001b[39m\u001b[23m                                \u001b[3m\u001b[90m<chr>\u001b[39m\u001b[23m   \u001b[3m\u001b[90m<chr>\u001b[39m\u001b[23m  \u001b[3m\u001b[90m<chr>\u001b[39m\u001b[23m       \u001b[3m\u001b[90m<chr>\u001b[39m\u001b[23m \n",
      "\u001b[90m 1\u001b[39m 5605b66b-e92d-c16c-1b83-b8bf7040d51f M       white  nonhispanic F     \n",
      "\u001b[90m 2\u001b[39m 6e5ae27c-8038-7988-e2c0-25a103f01bfa M       white  nonhispanic M     \n",
      "\u001b[90m 3\u001b[39m 8123d076-0886-9007-e956-d5864aa121a7 M       white  nonhispanic M     \n",
      "\u001b[90m 4\u001b[39m 770518e4-6133-648e-60c9-071eb2f0e2ce M       white  hispanic    M     \n",
      "\u001b[90m 5\u001b[39m f96addf5-81b9-0aab-7855-d208d3d352c5 M       white  hispanic    M     \n",
      "\u001b[90m 6\u001b[39m 8e9650d1-788a-78f9-4a28-d08f7f95354a M       white  hispanic    M     \n",
      "\u001b[90m 7\u001b[39m 183df435-4190-060e-8f8e-bf63c572b266 M       asian  nonhispanic F     \n",
      "\u001b[90m 8\u001b[39m 720560d4-51da-c38c-ee90-c15935278df1 M       white  nonhispanic M     \n",
      "\u001b[90m 9\u001b[39m 217851b0-5f47-d376-18b9-0fe4ba77207e S       black  hispanic    M     \n",
      "\u001b[90m10\u001b[39m ff331e5c-ab16-e218-f39a-63e11de1ed75 M       native hispanic    M     \n"
     ]
    }
   ],
   "source": [
    "#pivot wide\n",
    "properties_df <- pivot_wider(properties_df, names_from = property, values_from = value)\n",
    "print(head(properties_df, 10))"
   ]
  },
  {
   "cell_type": "markdown",
   "id": "dffb85c3",
   "metadata": {},
   "source": [
    "### Question 7\n",
    "Perform a left join of the names and properties_wide data frames by the ID column and print the first 10 rows."
   ]
  },
  {
   "cell_type": "code",
   "execution_count": 16,
   "id": "cf4e4dce-7446-4f55-bbee-aa1ddeb8c42f",
   "metadata": {},
   "outputs": [
    {
     "name": "stdout",
     "output_type": "stream",
     "text": [
      "\u001b[90m# A tibble: 10 × 11\u001b[39m\n",
      "   ID      BIRTHDATE  DEATHDATE  FIRST LAST  CITY  STATE MARITAL RACE  ETHNICITY\n",
      "   \u001b[3m\u001b[90m<chr>\u001b[39m\u001b[23m   \u001b[3m\u001b[90m<date>\u001b[39m\u001b[23m     \u001b[3m\u001b[90m<date>\u001b[39m\u001b[23m     \u001b[3m\u001b[90m<chr>\u001b[39m\u001b[23m \u001b[3m\u001b[90m<chr>\u001b[39m\u001b[23m \u001b[3m\u001b[90m<chr>\u001b[39m\u001b[23m \u001b[3m\u001b[90m<chr>\u001b[39m\u001b[23m \u001b[3m\u001b[90m<chr>\u001b[39m\u001b[23m   \u001b[3m\u001b[90m<chr>\u001b[39m\u001b[23m \u001b[3m\u001b[90m<chr>\u001b[39m\u001b[23m    \n",
      "\u001b[90m 1\u001b[39m 5605b6… 1977-03-19 \u001b[31mNA\u001b[39m         Niki… Erdm… Quin… Mass… M       white nonhispa…\n",
      "\u001b[90m 2\u001b[39m 6e5ae2… 1940-02-19 \u001b[31mNA\u001b[39m         Zane… Hodk… Bost… Mass… M       white nonhispa…\n",
      "\u001b[90m 3\u001b[39m 8123d0… 1958-06-04 \u001b[31mNA\u001b[39m         Quin… Marq… Quin… Mass… M       white nonhispa…\n",
      "\u001b[90m 4\u001b[39m 770518… 1928-12-25 2017-09-29 Abel… Smit… Bost… Mass… M       white hispanic \n",
      "\u001b[90m 5\u001b[39m f96add… 1928-12-25 2014-02-23 Edwi… Laba… Bost… Mass… M       white hispanic \n",
      "\u001b[90m 6\u001b[39m 8e9650… 1928-12-25 \u001b[31mNA\u001b[39m         Fran… Ober… Bost… Mass… M       white hispanic \n",
      "\u001b[90m 7\u001b[39m 183df4… 1957-11-08 \u001b[31mNA\u001b[39m         Eile… Wals… Camb… Mass… M       asian nonhispa…\n",
      "\u001b[90m 8\u001b[39m 720560… 1972-06-27 \u001b[31mNA\u001b[39m         Lowe… Pric… Quin… Mass… M       white nonhispa…\n",
      "\u001b[90m 9\u001b[39m 217851… 1954-03-06 \u001b[31mNA\u001b[39m         Adri… Glea… Bost… Mass… S       black hispanic \n",
      "\u001b[90m10\u001b[39m ff331e… 1927-07-10 \u001b[31mNA\u001b[39m         Euge… Aber… Bost… Mass… M       nati… hispanic \n",
      "\u001b[90m# ℹ 1 more variable: GENDER <chr>\u001b[39m\n"
     ]
    }
   ],
   "source": [
    "library(dplyr)\n",
    "joined_df <- left_join(names_df, properties_df, by = \"ID\")\n",
    "print(head(joined_df, 10))"
   ]
  },
  {
   "cell_type": "markdown",
   "id": "5f82272f",
   "metadata": {},
   "source": [
    "### Question 8\n",
    "Notice something interesting about the names in our data set. Fix the name formatting and print the first 10 observations.\n",
    "\n",
    "All the names have numbers in them"
   ]
  },
  {
   "cell_type": "code",
   "execution_count": 17,
   "id": "21dc0aa1-3b86-4b9b-8230-539db05fec95",
   "metadata": {},
   "outputs": [
    {
     "name": "stdout",
     "output_type": "stream",
     "text": [
      "\u001b[90m# A tibble: 10 × 11\u001b[39m\n",
      "   ID      BIRTHDATE  DEATHDATE  FIRST LAST  CITY  STATE MARITAL RACE  ETHNICITY\n",
      "   \u001b[3m\u001b[90m<chr>\u001b[39m\u001b[23m   \u001b[3m\u001b[90m<date>\u001b[39m\u001b[23m     \u001b[3m\u001b[90m<date>\u001b[39m\u001b[23m     \u001b[3m\u001b[90m<chr>\u001b[39m\u001b[23m \u001b[3m\u001b[90m<chr>\u001b[39m\u001b[23m \u001b[3m\u001b[90m<chr>\u001b[39m\u001b[23m \u001b[3m\u001b[90m<chr>\u001b[39m\u001b[23m \u001b[3m\u001b[90m<chr>\u001b[39m\u001b[23m   \u001b[3m\u001b[90m<chr>\u001b[39m\u001b[23m \u001b[3m\u001b[90m<chr>\u001b[39m\u001b[23m    \n",
      "\u001b[90m 1\u001b[39m 5605b6… 1977-03-19 \u001b[31mNA\u001b[39m         Niki… Erdm… Quin… Mass… M       white nonhispa…\n",
      "\u001b[90m 2\u001b[39m 6e5ae2… 1940-02-19 \u001b[31mNA\u001b[39m         Zane  Hodk… Bost… Mass… M       white nonhispa…\n",
      "\u001b[90m 3\u001b[39m 8123d0… 1958-06-04 \u001b[31mNA\u001b[39m         Quinn Marq… Quin… Mass… M       white nonhispa…\n",
      "\u001b[90m 4\u001b[39m 770518… 1928-12-25 2017-09-29 Abel  Smit… Bost… Mass… M       white hispanic \n",
      "\u001b[90m 5\u001b[39m f96add… 1928-12-25 2014-02-23 Edwin Laba… Bost… Mass… M       white hispanic \n",
      "\u001b[90m 6\u001b[39m 8e9650… 1928-12-25 \u001b[31mNA\u001b[39m         Fran… Ober… Bost… Mass… M       white hispanic \n",
      "\u001b[90m 7\u001b[39m 183df4… 1957-11-08 \u001b[31mNA\u001b[39m         Eile… Walsh Camb… Mass… M       asian nonhispa…\n",
      "\u001b[90m 8\u001b[39m 720560… 1972-06-27 \u001b[31mNA\u001b[39m         Lowe… Price Quin… Mass… M       white nonhispa…\n",
      "\u001b[90m 9\u001b[39m 217851… 1954-03-06 \u001b[31mNA\u001b[39m         Adri… Glea… Bost… Mass… S       black hispanic \n",
      "\u001b[90m10\u001b[39m ff331e… 1927-07-10 \u001b[31mNA\u001b[39m         Euge… Aber… Bost… Mass… M       nati… hispanic \n",
      "\u001b[90m# ℹ 1 more variable: GENDER <chr>\u001b[39m\n"
     ]
    }
   ],
   "source": [
    "joined_df$FIRST <- gsub(\"[0-9]\", \"\", joined_df$FIRST)\n",
    "joined_df$LAST <- gsub(\"[0-9]\", \"\", joined_df$LAST)\n",
    "print(head(joined_df,10))"
   ]
  },
  {
   "cell_type": "markdown",
   "id": "c6f65807",
   "metadata": {},
   "source": [
    "### Question 9\n",
    "Using a for statement to loop through the categorical variables (excluding name and ID), print the counts of each unique value in descending order, using the mdpre() function for formatting."
   ]
  },
  {
   "cell_type": "code",
   "execution_count": 18,
   "id": "33d00b76-faec-4ac5-8a30-be8f63d327ce",
   "metadata": {},
   "outputs": [
    {
     "name": "stdout",
     "output_type": "stream",
     "text": [
      "Column: CITY \n",
      "\n",
      "        Boston         Quincy      Cambridge         Revere        Chelsea \n",
      "           541             80             45             42             39 \n",
      "      Weymouth     Somerville        Hingham       Winthrop      Brookline \n",
      "            37             25             22             22             17 \n",
      "       Everett           Hull        Medford      Braintree       Cohasset \n",
      "            16             15             13             10             10 \n",
      "        Malden       Scituate         Newton       Stoneham North Scituate \n",
      "             8              8              6              5              3 \n",
      "       Reading        Belmont      Lynnfield        Melrose         Milton \n",
      "             2              1              1              1              1 \n",
      "       Norwell        Waltham      Watertown     Winchester \n",
      "             1              1              1              1 \n",
      "\n",
      "Column: STATE \n",
      "Massachusetts \n",
      "          974 \n",
      "\n",
      "Column: MARITAL \n",
      "\n",
      "   M    S Fine male \n",
      " 782  189    1    1 \n",
      "\n",
      "Column: RACE \n",
      "\n",
      "   white    black    asian    other hawaiian   native   asiann \n",
      "     680      163       90       16       13       11        1 \n",
      "\n",
      "Column: ETHNICITY \n",
      "\n",
      "nonhispanic    hispanic  nonhispani     hispani \n",
      "        781         190           2           1 \n",
      "\n",
      "Column: GENDER \n",
      "\n",
      "     M      F female Female   Male \n",
      "   493    478      1      1      1 \n",
      "\n"
     ]
    }
   ],
   "source": [
    "x <- names(joined_df)\n",
    "y<-c(x[2:3],x[6:11])\n",
    "print_categorical_summary <- function(joined_df) {\n",
    "  for (colname in y) {\n",
    "    # Check if the column is categorical\n",
    "    if (is.character(joined_df[[colname]]) || is.factor(joined_df[[colname]])) {\n",
    "      cat(\"Column:\", colname, \"\\n\")\n",
    "      \n",
    "      # Create a frequency table and sort it in descending order\n",
    "      freq <- sort(table(joined_df[[colname]]), decreasing = TRUE)\n",
    "      \n",
    "      print(freq)\n",
    "      cat(\"\\n\")\n",
    "    }\n",
    "  }\n",
    "}\n",
    "print_categorical_summary(joined_df)"
   ]
  },
  {
   "cell_type": "markdown",
   "id": "9c872f41",
   "metadata": {},
   "source": [
    "### Question 10\n",
    "If you see any weird values, get rid of the ones that don't make sense, and combine the ones that are formatted wrong. Don't forget ot check the dates! Print the new tables for categorical values, and print the date ranges."
   ]
  },
  {
   "cell_type": "code",
   "execution_count": 19,
   "id": "5ec62af5-d1f7-4d9b-99e5-36b57c28fc01",
   "metadata": {},
   "outputs": [
    {
     "name": "stdout",
     "output_type": "stream",
     "text": [
      "Column: CITY \n",
      "\n",
      "        Boston         Quincy      Cambridge         Revere        Chelsea \n",
      "           539             80             45             42             39 \n",
      "      Weymouth     Somerville        Hingham       Winthrop      Brookline \n",
      "            37             25             22             22             17 \n",
      "       Everett           Hull        Medford      Braintree       Cohasset \n",
      "            16             15             13             10             10 \n",
      "        Malden       Scituate         Newton       Stoneham North Scituate \n",
      "             8              8              6              5              3 \n",
      "       Reading        Belmont      Lynnfield        Melrose         Milton \n",
      "             2              1              1              1              1 \n",
      "       Norwell        Waltham      Watertown     Winchester \n",
      "             1              1              1              1 \n",
      "\n",
      "Column: STATE \n",
      "Massachusetts \n",
      "          972 \n",
      "\n",
      "Column: MARITAL \n",
      "\n",
      "  M   S \n",
      "782 189 \n",
      "\n",
      "Column: RACE \n",
      "\n",
      "   white    black    asian    other hawaiian   native \n",
      "     679      163       90       16       13       11 \n",
      "\n",
      "Column: ETHNICITY \n",
      "\n",
      "nonhispanic    hispanic \n",
      "        781         191 \n",
      "\n",
      "Column: GENDER \n",
      "\n",
      "  male female \n",
      "   494    478 \n",
      "\n"
     ]
    }
   ],
   "source": [
    "#recoding certain values \n",
    "joined_df$RACE[joined_df$RACE %in% c(\"asiann\", \"asiann\")] <- \"asian\"\n",
    "joined_df$ETHNICITY[joined_df$ETHNICITY %in% c(\"nonhispani\", \"nonhispanic\")] <- \"nonhispanic\"\n",
    "joined_df$ETHNICITY[joined_df$ETHNICITY %in% c(\"hispani\", \"hispanic\")] <- \"hispanic\"\n",
    "joined_df$GENDER[joined_df$GENDER %in% c(\"M\", \"Male\")] <- \"male\"\n",
    "joined_df$GENDER[joined_df$GENDER %in% c(\"F\", \"female\", \"Female\")] <- \"female\"\n",
    "joined_df <- joined_df[!joined_df$MARITAL %in% c(\"Fine\", \"male\"), ]\n",
    "\n",
    "#check category values and counts\n",
    "x <- names(joined_df)\n",
    "y<-c(x[2:3],x[6:11])\n",
    "print_categorical_summary <- function(joined_df) {\n",
    "  for (colname in y) {\n",
    "    # Check if the column is categorical\n",
    "    if (is.character(joined_df[[colname]]) || is.factor(joined_df[[colname]])) {\n",
    "      cat(\"Column:\", colname, \"\\n\")\n",
    "      \n",
    "      # Create a frequency table and sort it in descending order\n",
    "      freq <- sort(table(joined_df[[colname]]), decreasing = TRUE)\n",
    "      \n",
    "      print(freq)\n",
    "      cat(\"\\n\")\n",
    "    }\n",
    "  }\n",
    "}\n",
    "print_categorical_summary(joined_df)"
   ]
  },
  {
   "cell_type": "markdown",
   "id": "b4c83785",
   "metadata": {},
   "source": [
    "### Question 11\n",
    "Make a histogram of the ages of patients by gender. \n",
    "\n"
   ]
  },
  {
   "cell_type": "code",
   "execution_count": 20,
   "id": "52b0cd9b-9432-42f0-9afd-ff492e1bc63c",
   "metadata": {},
   "outputs": [
    {
     "data": {
      "image/png": "[encoded data removed]",
      "text/plain": [
       "plot without title"
      ]
     },
     "metadata": {
      "image/png": {
       "height": 420,
       "width": 420
      }
     },
     "output_type": "display_data"
    }
   ],
   "source": [
    "joined_df$age <- as.numeric(floor((Sys.Date() - joined_df$BIRTHDATE) / 365))\n",
    "ggplot(joined_df, aes(x = age, fill = GENDER)) +\n",
    "    geom_histogram(position = \"dodge\", bins = 30, color = \"black\") +\n",
    "      labs(\n",
    "             title = \"Age Distribution by Gender\",\n",
    "             x = \"Age (years)\",\n",
    "             y = \"Count\"\n",
    "         ) +\n",
    "       theme_minimal()"
   ]
  },
  {
   "cell_type": "markdown",
   "id": "e41b7170",
   "metadata": {},
   "source": [
    "### Question 12\n",
    "Make a scatterplot of birthdate by martial status."
   ]
  },
  {
   "cell_type": "code",
   "execution_count": 10,
   "id": "2dc62faf-1276-4998-8902-1501c8647829",
   "metadata": {},
   "outputs": [
    {
     "data": {
      "image/png": "[encoded data removed]",
      "text/plain": [
       "plot without title"
      ]
     },
     "metadata": {
      "image/png": {
       "height": 420,
       "width": 420
      }
     },
     "output_type": "display_data"
    }
   ],
   "source": [
    "ggplot(joined_df, aes(x = BIRTHDATE, y = MARITAL)) +\n",
    "  geom_jitter(width = 0, height = 0.2, alpha = 0.6, color = \"darkgreen\") +\n",
    "  labs(\n",
    "    title = \"Birthdates by Marital Status\",\n",
    "    x = \"Birthdate\",\n",
    "    y = \"Marital Status\"\n",
    "  ) +\n",
    "  theme_minimal()"
   ]
  },
  {
   "cell_type": "code",
   "execution_count": null,
   "id": "f2e79e83-ecbc-402d-8b14-0208fd729a6c",
   "metadata": {},
   "outputs": [],
   "source": []
  }
 ],
 "metadata": {
  "kernelspec": {
   "display_name": "R",
   "language": "R",
   "name": "ir"
  },
  "language_info": {
   "codemirror_mode": "r",
   "file_extension": ".r",
   "mimetype": "text/x-r-source",
   "name": "R",
   "pygments_lexer": "r",
   "version": "4.4.2"
  }
 },
 "nbformat": 4,
 "nbformat_minor": 5
}
